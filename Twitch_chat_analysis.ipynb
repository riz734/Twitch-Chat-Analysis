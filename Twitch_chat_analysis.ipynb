{
 "cells": [
  {
   "cell_type": "markdown",
   "id": "ac8b9386",
   "metadata": {},
   "source": [
    "https://towardsdatascience.com/avatar-meets-data-visualization-60631f86ba7d"
   ]
  },
  {
   "cell_type": "code",
   "execution_count": 2,
   "id": "7b13892c",
   "metadata": {},
   "outputs": [],
   "source": [
    "import pandas as pd\n",
    "import numpy as np\n",
    "import seaborn as sns\n",
    "import nltk\n",
    "from nltk.sentiment.vader import SentimentIntensityAnalyzer\n",
    "from datetime import datetime\n",
    "import matplotlib.pyplot as plt"
   ]
  },
  {
   "cell_type": "code",
   "execution_count": 3,
   "id": "3bc3aa2c",
   "metadata": {},
   "outputs": [],
   "source": [
    "#loads both sodapoppin and xqcow chat datasets and combines them\n",
    "def load_data():\n",
    "    sodapoppin = pd.read_csv(\"data/sodapoppin.csv\")\n",
    "    sodapoppin[\"Streamer\"] = \"sodapoppin\"\n",
    "    \n",
    "    xqcow = pd.read_csv(\"data/xqcow.csv\")\n",
    "    xqcow[\"Streamer\"] = \"xqcow\"\n",
    "    \n",
    "    merged_chats = pd.concat([sodapoppin,xqcow])\n",
    "    \n",
    "    return merged_chats"
   ]
  },
  {
   "cell_type": "code",
   "execution_count": 4,
   "id": "e225435a",
   "metadata": {},
   "outputs": [
    {
     "data": {
      "text/html": [
       "<div>\n",
       "<style scoped>\n",
       "    .dataframe tbody tr th:only-of-type {\n",
       "        vertical-align: middle;\n",
       "    }\n",
       "\n",
       "    .dataframe tbody tr th {\n",
       "        vertical-align: top;\n",
       "    }\n",
       "\n",
       "    .dataframe thead th {\n",
       "        text-align: right;\n",
       "    }\n",
       "</style>\n",
       "<table border=\"1\" class=\"dataframe\">\n",
       "  <thead>\n",
       "    <tr style=\"text-align: right;\">\n",
       "      <th></th>\n",
       "      <th>Message_Datetime</th>\n",
       "      <th>Name</th>\n",
       "      <th>Moderator</th>\n",
       "      <th>VIP</th>\n",
       "      <th>Subscriber</th>\n",
       "      <th>Is_First_Message</th>\n",
       "      <th>Message_len</th>\n",
       "      <th>qtd_msgs_15_secs</th>\n",
       "      <th>Message</th>\n",
       "      <th>Banned</th>\n",
       "      <th>Streamer</th>\n",
       "    </tr>\n",
       "  </thead>\n",
       "  <tbody>\n",
       "    <tr>\n",
       "      <th>0</th>\n",
       "      <td>44548.058067</td>\n",
       "      <td>Mhepps</td>\n",
       "      <td>0</td>\n",
       "      <td>0</td>\n",
       "      <td>0</td>\n",
       "      <td>0</td>\n",
       "      <td>42</td>\n",
       "      <td>1</td>\n",
       "      <td>i just woke up, where is mr strimmer Madge</td>\n",
       "      <td>0</td>\n",
       "      <td>sodapoppin</td>\n",
       "    </tr>\n",
       "    <tr>\n",
       "      <th>1</th>\n",
       "      <td>44548.058148</td>\n",
       "      <td>Pispet</td>\n",
       "      <td>0</td>\n",
       "      <td>0</td>\n",
       "      <td>1</td>\n",
       "      <td>0</td>\n",
       "      <td>53</td>\n",
       "      <td>1</td>\n",
       "      <td>maarionete the weebs are being horni again Cal...</td>\n",
       "      <td>0</td>\n",
       "      <td>sodapoppin</td>\n",
       "    </tr>\n",
       "    <tr>\n",
       "      <th>2</th>\n",
       "      <td>44548.058218</td>\n",
       "      <td>Maarionete</td>\n",
       "      <td>0</td>\n",
       "      <td>0</td>\n",
       "      <td>0</td>\n",
       "      <td>0</td>\n",
       "      <td>10</td>\n",
       "      <td>1</td>\n",
       "      <td>PANIC webs</td>\n",
       "      <td>0</td>\n",
       "      <td>sodapoppin</td>\n",
       "    </tr>\n",
       "    <tr>\n",
       "      <th>3</th>\n",
       "      <td>44548.058322</td>\n",
       "      <td>justTNK</td>\n",
       "      <td>0</td>\n",
       "      <td>0</td>\n",
       "      <td>1</td>\n",
       "      <td>0</td>\n",
       "      <td>24</td>\n",
       "      <td>1</td>\n",
       "      <td>squchaGasm Kiss me mario</td>\n",
       "      <td>0</td>\n",
       "      <td>sodapoppin</td>\n",
       "    </tr>\n",
       "    <tr>\n",
       "      <th>4</th>\n",
       "      <td>44548.058391</td>\n",
       "      <td>Maarionete</td>\n",
       "      <td>0</td>\n",
       "      <td>0</td>\n",
       "      <td>0</td>\n",
       "      <td>0</td>\n",
       "      <td>11</td>\n",
       "      <td>2</td>\n",
       "      <td>vulpes3Kiss</td>\n",
       "      <td>0</td>\n",
       "      <td>sodapoppin</td>\n",
       "    </tr>\n",
       "  </tbody>\n",
       "</table>\n",
       "</div>"
      ],
      "text/plain": [
       "  Message_Datetime        Name  Moderator  VIP  Subscriber  Is_First_Message  \\\n",
       "0     44548.058067      Mhepps          0    0           0                 0   \n",
       "1     44548.058148      Pispet          0    0           1                 0   \n",
       "2     44548.058218  Maarionete          0    0           0                 0   \n",
       "3     44548.058322     justTNK          0    0           1                 0   \n",
       "4     44548.058391  Maarionete          0    0           0                 0   \n",
       "\n",
       "   Message_len  qtd_msgs_15_secs  \\\n",
       "0           42                 1   \n",
       "1           53                 1   \n",
       "2           10                 1   \n",
       "3           24                 1   \n",
       "4           11                 2   \n",
       "\n",
       "                                             Message  Banned    Streamer  \n",
       "0         i just woke up, where is mr strimmer Madge       0  sodapoppin  \n",
       "1  maarionete the weebs are being horni again Cal...       0  sodapoppin  \n",
       "2                                         PANIC webs       0  sodapoppin  \n",
       "3                           squchaGasm Kiss me mario       0  sodapoppin  \n",
       "4                                        vulpes3Kiss       0  sodapoppin  "
      ]
     },
     "execution_count": 4,
     "metadata": {},
     "output_type": "execute_result"
    }
   ],
   "source": [
    "load_data().head()"
   ]
  },
  {
   "cell_type": "code",
   "execution_count": 5,
   "id": "ce08577f",
   "metadata": {},
   "outputs": [],
   "source": [
    "# calculating and adding sentiment score to dataframe\n",
    "def sentiment_scores(df):\n",
    "    \n",
    "    merged_chats= df.astype({'Message': 'str'})\n",
    "    senti_lyze = SentimentIntensityAnalyzer()\n",
    "    merged_chats.reset_index(inplace=True, drop=True)\n",
    "    merged_chats[['neg', 'neu', 'pos', 'compound']] = merged_chats['Message'].apply(senti_lyze.polarity_scores).apply(pd.Series)\n",
    "    \n",
    "    return merged_chats"
   ]
  },
  {
   "cell_type": "code",
   "execution_count": 6,
   "id": "71115521",
   "metadata": {},
   "outputs": [
    {
     "name": "stdout",
     "output_type": "stream",
     "text": [
      "Duration: 0:06:30.895947\n",
      "Finished adding sentiment scores\n"
     ]
    }
   ],
   "source": [
    "start_time = datetime.now()\n",
    "chat_df = sentiment_scores(load_data())\n",
    "end_time = datetime.now()\n",
    "print('Duration: {}'.format(end_time - start_time))\n",
    "print(\"Finished adding sentiment scores\")"
   ]
  },
  {
   "cell_type": "code",
   "execution_count": 7,
   "id": "e38e9c33",
   "metadata": {},
   "outputs": [
    {
     "data": {
      "text/html": [
       "<div>\n",
       "<style scoped>\n",
       "    .dataframe tbody tr th:only-of-type {\n",
       "        vertical-align: middle;\n",
       "    }\n",
       "\n",
       "    .dataframe tbody tr th {\n",
       "        vertical-align: top;\n",
       "    }\n",
       "\n",
       "    .dataframe thead th {\n",
       "        text-align: right;\n",
       "    }\n",
       "</style>\n",
       "<table border=\"1\" class=\"dataframe\">\n",
       "  <thead>\n",
       "    <tr style=\"text-align: right;\">\n",
       "      <th></th>\n",
       "      <th>Message_Datetime</th>\n",
       "      <th>Name</th>\n",
       "      <th>Moderator</th>\n",
       "      <th>VIP</th>\n",
       "      <th>Subscriber</th>\n",
       "      <th>Is_First_Message</th>\n",
       "      <th>Message_len</th>\n",
       "      <th>qtd_msgs_15_secs</th>\n",
       "      <th>Message</th>\n",
       "      <th>Banned</th>\n",
       "      <th>Streamer</th>\n",
       "      <th>neg</th>\n",
       "      <th>neu</th>\n",
       "      <th>pos</th>\n",
       "      <th>compound</th>\n",
       "    </tr>\n",
       "  </thead>\n",
       "  <tbody>\n",
       "    <tr>\n",
       "      <th>0</th>\n",
       "      <td>44548.058067</td>\n",
       "      <td>Mhepps</td>\n",
       "      <td>0</td>\n",
       "      <td>0</td>\n",
       "      <td>0</td>\n",
       "      <td>0</td>\n",
       "      <td>42</td>\n",
       "      <td>1</td>\n",
       "      <td>i just woke up, where is mr strimmer Madge</td>\n",
       "      <td>0</td>\n",
       "      <td>sodapoppin</td>\n",
       "      <td>0.000</td>\n",
       "      <td>1.000</td>\n",
       "      <td>0.000</td>\n",
       "      <td>0.0000</td>\n",
       "    </tr>\n",
       "    <tr>\n",
       "      <th>1</th>\n",
       "      <td>44548.058148</td>\n",
       "      <td>Pispet</td>\n",
       "      <td>0</td>\n",
       "      <td>0</td>\n",
       "      <td>1</td>\n",
       "      <td>0</td>\n",
       "      <td>53</td>\n",
       "      <td>1</td>\n",
       "      <td>maarionete the weebs are being horni again Cal...</td>\n",
       "      <td>0</td>\n",
       "      <td>sodapoppin</td>\n",
       "      <td>0.000</td>\n",
       "      <td>1.000</td>\n",
       "      <td>0.000</td>\n",
       "      <td>0.0000</td>\n",
       "    </tr>\n",
       "    <tr>\n",
       "      <th>2</th>\n",
       "      <td>44548.058218</td>\n",
       "      <td>Maarionete</td>\n",
       "      <td>0</td>\n",
       "      <td>0</td>\n",
       "      <td>0</td>\n",
       "      <td>0</td>\n",
       "      <td>10</td>\n",
       "      <td>1</td>\n",
       "      <td>PANIC webs</td>\n",
       "      <td>0</td>\n",
       "      <td>sodapoppin</td>\n",
       "      <td>0.801</td>\n",
       "      <td>0.199</td>\n",
       "      <td>0.000</td>\n",
       "      <td>-0.6166</td>\n",
       "    </tr>\n",
       "    <tr>\n",
       "      <th>3</th>\n",
       "      <td>44548.058322</td>\n",
       "      <td>justTNK</td>\n",
       "      <td>0</td>\n",
       "      <td>0</td>\n",
       "      <td>1</td>\n",
       "      <td>0</td>\n",
       "      <td>24</td>\n",
       "      <td>1</td>\n",
       "      <td>squchaGasm Kiss me mario</td>\n",
       "      <td>0</td>\n",
       "      <td>sodapoppin</td>\n",
       "      <td>0.000</td>\n",
       "      <td>0.517</td>\n",
       "      <td>0.483</td>\n",
       "      <td>0.4215</td>\n",
       "    </tr>\n",
       "    <tr>\n",
       "      <th>4</th>\n",
       "      <td>44548.058391</td>\n",
       "      <td>Maarionete</td>\n",
       "      <td>0</td>\n",
       "      <td>0</td>\n",
       "      <td>0</td>\n",
       "      <td>0</td>\n",
       "      <td>11</td>\n",
       "      <td>2</td>\n",
       "      <td>vulpes3Kiss</td>\n",
       "      <td>0</td>\n",
       "      <td>sodapoppin</td>\n",
       "      <td>0.000</td>\n",
       "      <td>1.000</td>\n",
       "      <td>0.000</td>\n",
       "      <td>0.0000</td>\n",
       "    </tr>\n",
       "  </tbody>\n",
       "</table>\n",
       "</div>"
      ],
      "text/plain": [
       "  Message_Datetime        Name  Moderator  VIP  Subscriber  Is_First_Message  \\\n",
       "0     44548.058067      Mhepps          0    0           0                 0   \n",
       "1     44548.058148      Pispet          0    0           1                 0   \n",
       "2     44548.058218  Maarionete          0    0           0                 0   \n",
       "3     44548.058322     justTNK          0    0           1                 0   \n",
       "4     44548.058391  Maarionete          0    0           0                 0   \n",
       "\n",
       "   Message_len  qtd_msgs_15_secs  \\\n",
       "0           42                 1   \n",
       "1           53                 1   \n",
       "2           10                 1   \n",
       "3           24                 1   \n",
       "4           11                 2   \n",
       "\n",
       "                                             Message  Banned    Streamer  \\\n",
       "0         i just woke up, where is mr strimmer Madge       0  sodapoppin   \n",
       "1  maarionete the weebs are being horni again Cal...       0  sodapoppin   \n",
       "2                                         PANIC webs       0  sodapoppin   \n",
       "3                           squchaGasm Kiss me mario       0  sodapoppin   \n",
       "4                                        vulpes3Kiss       0  sodapoppin   \n",
       "\n",
       "     neg    neu    pos  compound  \n",
       "0  0.000  1.000  0.000    0.0000  \n",
       "1  0.000  1.000  0.000    0.0000  \n",
       "2  0.801  0.199  0.000   -0.6166  \n",
       "3  0.000  0.517  0.483    0.4215  \n",
       "4  0.000  1.000  0.000    0.0000  "
      ]
     },
     "execution_count": 7,
     "metadata": {},
     "output_type": "execute_result"
    }
   ],
   "source": [
    "chat_df.head()"
   ]
  },
  {
   "cell_type": "code",
   "execution_count": 8,
   "id": "2075ffe0",
   "metadata": {},
   "outputs": [
    {
     "data": {
      "text/html": [
       "<div>\n",
       "<style scoped>\n",
       "    .dataframe tbody tr th:only-of-type {\n",
       "        vertical-align: middle;\n",
       "    }\n",
       "\n",
       "    .dataframe tbody tr th {\n",
       "        vertical-align: top;\n",
       "    }\n",
       "\n",
       "    .dataframe thead th {\n",
       "        text-align: right;\n",
       "    }\n",
       "</style>\n",
       "<table border=\"1\" class=\"dataframe\">\n",
       "  <thead>\n",
       "    <tr style=\"text-align: right;\">\n",
       "      <th></th>\n",
       "      <th>neg</th>\n",
       "      <th>neu</th>\n",
       "      <th>pos</th>\n",
       "      <th>compound</th>\n",
       "    </tr>\n",
       "  </thead>\n",
       "  <tbody>\n",
       "    <tr>\n",
       "      <th>count</th>\n",
       "      <td>1.751664e+06</td>\n",
       "      <td>1.751664e+06</td>\n",
       "      <td>1.751664e+06</td>\n",
       "      <td>1.751664e+06</td>\n",
       "    </tr>\n",
       "    <tr>\n",
       "      <th>mean</th>\n",
       "      <td>6.303204e-02</td>\n",
       "      <td>8.368162e-01</td>\n",
       "      <td>8.882359e-02</td>\n",
       "      <td>1.294486e-02</td>\n",
       "    </tr>\n",
       "    <tr>\n",
       "      <th>std</th>\n",
       "      <td>1.997078e-01</td>\n",
       "      <td>3.140882e-01</td>\n",
       "      <td>2.422625e-01</td>\n",
       "      <td>2.370065e-01</td>\n",
       "    </tr>\n",
       "    <tr>\n",
       "      <th>min</th>\n",
       "      <td>0.000000e+00</td>\n",
       "      <td>0.000000e+00</td>\n",
       "      <td>0.000000e+00</td>\n",
       "      <td>-9.996000e-01</td>\n",
       "    </tr>\n",
       "    <tr>\n",
       "      <th>25%</th>\n",
       "      <td>0.000000e+00</td>\n",
       "      <td>1.000000e+00</td>\n",
       "      <td>0.000000e+00</td>\n",
       "      <td>0.000000e+00</td>\n",
       "    </tr>\n",
       "    <tr>\n",
       "      <th>50%</th>\n",
       "      <td>0.000000e+00</td>\n",
       "      <td>1.000000e+00</td>\n",
       "      <td>0.000000e+00</td>\n",
       "      <td>0.000000e+00</td>\n",
       "    </tr>\n",
       "    <tr>\n",
       "      <th>75%</th>\n",
       "      <td>0.000000e+00</td>\n",
       "      <td>1.000000e+00</td>\n",
       "      <td>0.000000e+00</td>\n",
       "      <td>0.000000e+00</td>\n",
       "    </tr>\n",
       "    <tr>\n",
       "      <th>max</th>\n",
       "      <td>1.000000e+00</td>\n",
       "      <td>1.000000e+00</td>\n",
       "      <td>1.000000e+00</td>\n",
       "      <td>9.995000e-01</td>\n",
       "    </tr>\n",
       "  </tbody>\n",
       "</table>\n",
       "</div>"
      ],
      "text/plain": [
       "                neg           neu           pos      compound\n",
       "count  1.751664e+06  1.751664e+06  1.751664e+06  1.751664e+06\n",
       "mean   6.303204e-02  8.368162e-01  8.882359e-02  1.294486e-02\n",
       "std    1.997078e-01  3.140882e-01  2.422625e-01  2.370065e-01\n",
       "min    0.000000e+00  0.000000e+00  0.000000e+00 -9.996000e-01\n",
       "25%    0.000000e+00  1.000000e+00  0.000000e+00  0.000000e+00\n",
       "50%    0.000000e+00  1.000000e+00  0.000000e+00  0.000000e+00\n",
       "75%    0.000000e+00  1.000000e+00  0.000000e+00  0.000000e+00\n",
       "max    1.000000e+00  1.000000e+00  1.000000e+00  9.995000e-01"
      ]
     },
     "execution_count": 8,
     "metadata": {},
     "output_type": "execute_result"
    }
   ],
   "source": [
    "chat_df[[\"neg\",\"neu\",\"pos\",\"compound\"]].describe()"
   ]
  },
  {
   "cell_type": "code",
   "execution_count": 9,
   "id": "e98f4949",
   "metadata": {},
   "outputs": [],
   "source": [
    "#Gets a sample of the dataframe, sample of both streamers\n",
    "#Example: passing sample_size=100 will return df with 100 rows of sodapoppin and 100 xqcow data points (200 total)\n",
    "def get_sample(df,sample_size):\n",
    "        \n",
    "    #drops all rows where neutral is 1 to remove some of the noise\n",
    "    df = df[df[\"neu\"]!=1]\n",
    "    \n",
    "    soda_df = df[df[\"Streamer\"]==\"sodapoppin\"]\n",
    "    xqcow_df = df[df[\"Streamer\"]==\"xqcow\"]\n",
    "    \n",
    "    #gets a random sample of the dataframe based on passed n from both streamers chats\n",
    "    \n",
    "    soda_df = df[df[\"Streamer\"]==\"sodapoppin\"]\n",
    "    xqcow_df = df[df[\"Streamer\"]==\"xqcow\"]\n",
    "    \n",
    "    soda_df_sample = soda_df[:sample_size]\n",
    "    soda_df_sample = soda_df_sample.sample(n=sample_size, random_state=1)\n",
    "    \n",
    "    xqcow_df_sample = xqcow_df[:sample_size]\n",
    "    xqcow_df_sample = xqcow_df_sample.sample(n=sample_size, random_state=1)\n",
    "    \n",
    "    merged_samples = pd.concat([xqcow_df_sample,soda_df_sample])\n",
    "    \n",
    "    return merged_samples "
   ]
  },
  {
   "cell_type": "code",
   "execution_count": 10,
   "id": "9381ff6a",
   "metadata": {},
   "outputs": [],
   "source": [
    "def sentiment_dist(df):\n",
    "    import seaborn as sns\n",
    "    import matplotlib.pyplot as plt\n",
    "    \n",
    "    #create array for x axis\n",
    "    n = len(df['pos'])\n",
    "    X = np.arange(n)\n",
    "\n",
    "    #bar plot\n",
    "    fig = plt.figure()\n",
    "    plt.barh(X, df['pos'])\n",
    "    plt.barh(X, -df['neg'])\n",
    "    \n",
    "    #plt.rcParams.update({'font.size':13})\n",
    "    #plt.xlim([-.16,.22])\n",
    "    #plt.yticks(ticks=X, labels=df['Streamer'], rotation='0')\n",
    "    \n",
    "    plt.xlabel('Sentiment Score')\n",
    "    plt.ylabel('Sample_n')\n",
    "    plt.title(\"Distribution of Sentiment Scores\")"
   ]
  },
  {
   "cell_type": "code",
   "execution_count": 11,
   "id": "a01d0e49",
   "metadata": {},
   "outputs": [],
   "source": [
    "sample = get_sample(chat_df,1000)"
   ]
  },
  {
   "cell_type": "code",
   "execution_count": 12,
   "id": "c373945f",
   "metadata": {},
   "outputs": [
    {
     "data": {
      "text/html": [
       "<div>\n",
       "<style scoped>\n",
       "    .dataframe tbody tr th:only-of-type {\n",
       "        vertical-align: middle;\n",
       "    }\n",
       "\n",
       "    .dataframe tbody tr th {\n",
       "        vertical-align: top;\n",
       "    }\n",
       "\n",
       "    .dataframe thead th {\n",
       "        text-align: right;\n",
       "    }\n",
       "</style>\n",
       "<table border=\"1\" class=\"dataframe\">\n",
       "  <thead>\n",
       "    <tr style=\"text-align: right;\">\n",
       "      <th></th>\n",
       "      <th>neg</th>\n",
       "      <th>neu</th>\n",
       "      <th>pos</th>\n",
       "      <th>compound</th>\n",
       "    </tr>\n",
       "  </thead>\n",
       "  <tbody>\n",
       "    <tr>\n",
       "      <th>count</th>\n",
       "      <td>2000.000000</td>\n",
       "      <td>2000.000000</td>\n",
       "      <td>2000.000000</td>\n",
       "      <td>2000.000000</td>\n",
       "    </tr>\n",
       "    <tr>\n",
       "      <th>mean</th>\n",
       "      <td>0.210259</td>\n",
       "      <td>0.372114</td>\n",
       "      <td>0.378123</td>\n",
       "      <td>0.081707</td>\n",
       "    </tr>\n",
       "    <tr>\n",
       "      <th>std</th>\n",
       "      <td>0.305161</td>\n",
       "      <td>0.284706</td>\n",
       "      <td>0.381323</td>\n",
       "      <td>0.474738</td>\n",
       "    </tr>\n",
       "    <tr>\n",
       "      <th>min</th>\n",
       "      <td>0.000000</td>\n",
       "      <td>0.000000</td>\n",
       "      <td>0.000000</td>\n",
       "      <td>-0.996800</td>\n",
       "    </tr>\n",
       "    <tr>\n",
       "      <th>25%</th>\n",
       "      <td>0.000000</td>\n",
       "      <td>0.000000</td>\n",
       "      <td>0.000000</td>\n",
       "      <td>-0.361200</td>\n",
       "    </tr>\n",
       "    <tr>\n",
       "      <th>50%</th>\n",
       "      <td>0.000000</td>\n",
       "      <td>0.382000</td>\n",
       "      <td>0.275000</td>\n",
       "      <td>0.296000</td>\n",
       "    </tr>\n",
       "    <tr>\n",
       "      <th>75%</th>\n",
       "      <td>0.388500</td>\n",
       "      <td>0.619250</td>\n",
       "      <td>0.730000</td>\n",
       "      <td>0.421500</td>\n",
       "    </tr>\n",
       "    <tr>\n",
       "      <th>max</th>\n",
       "      <td>1.000000</td>\n",
       "      <td>0.950000</td>\n",
       "      <td>1.000000</td>\n",
       "      <td>0.999200</td>\n",
       "    </tr>\n",
       "  </tbody>\n",
       "</table>\n",
       "</div>"
      ],
      "text/plain": [
       "               neg          neu          pos     compound\n",
       "count  2000.000000  2000.000000  2000.000000  2000.000000\n",
       "mean      0.210259     0.372114     0.378123     0.081707\n",
       "std       0.305161     0.284706     0.381323     0.474738\n",
       "min       0.000000     0.000000     0.000000    -0.996800\n",
       "25%       0.000000     0.000000     0.000000    -0.361200\n",
       "50%       0.000000     0.382000     0.275000     0.296000\n",
       "75%       0.388500     0.619250     0.730000     0.421500\n",
       "max       1.000000     0.950000     1.000000     0.999200"
      ]
     },
     "execution_count": 12,
     "metadata": {},
     "output_type": "execute_result"
    }
   ],
   "source": [
    "sample[[\"neg\",\"neu\",\"pos\",\"compound\"]].describe()"
   ]
  },
  {
   "cell_type": "code",
   "execution_count": 13,
   "id": "1f896fb3",
   "metadata": {},
   "outputs": [
    {
     "data": {
      "image/png": "[encoded data removed]",
      "text/plain": [
       "<Figure size 432x288 with 1 Axes>"
      ]
     },
     "metadata": {
      "needs_background": "light"
     },
     "output_type": "display_data"
    }
   ],
   "source": [
    "sentiment_dist(sample)"
   ]
  },
  {
   "cell_type": "code",
   "execution_count": 14,
   "id": "e9817ccc",
   "metadata": {},
   "outputs": [
    {
     "data": {
      "text/plain": [
       "<seaborn.axisgrid.FacetGrid at 0x2763f320f40>"
      ]
     },
     "execution_count": 14,
     "metadata": {},
     "output_type": "execute_result"
    },
    {
     "data": {
      "image/png": "[encoded data removed]",
      "text/plain": [
       "<Figure size 453.75x360 with 1 Axes>"
      ]
     },
     "metadata": {
      "needs_background": "light"
     },
     "output_type": "display_data"
    }
   ],
   "source": [
    "sns.displot(sample, y=\"compound\", x=\"Streamer\",hue=\"Streamer\")"
   ]
  },
  {
   "cell_type": "code",
   "execution_count": 15,
   "id": "1548df22",
   "metadata": {},
   "outputs": [
    {
     "data": {
      "text/plain": [
       "<seaborn.axisgrid.FacetGrid at 0x2764227da60>"
      ]
     },
     "execution_count": 15,
     "metadata": {},
     "output_type": "execute_result"
    },
    {
     "data": {
      "image/png": "[encoded data removed]",
      "text/plain": [
       "<Figure size 453.75x360 with 1 Axes>"
      ]
     },
     "metadata": {
      "needs_background": "light"
     },
     "output_type": "display_data"
    }
   ],
   "source": [
    "sns.displot(sample, x=\"compound\", hue=\"Streamer\", kind=\"kde\")"
   ]
  },
  {
   "cell_type": "code",
   "execution_count": 1,
   "id": "a78d7f91",
   "metadata": {},
   "outputs": [
    {
     "ename": "NameError",
     "evalue": "name 'sample' is not defined",
     "output_type": "error",
     "traceback": [
      "\u001b[1;31m---------------------------------------------------------------------------\u001b[0m",
      "\u001b[1;31mNameError\u001b[0m                                 Traceback (most recent call last)",
      "\u001b[1;32m<ipython-input-1-ec954f2b6305>\u001b[0m in \u001b[0;36m<module>\u001b[1;34m\u001b[0m\n\u001b[1;32m----> 1\u001b[1;33m \u001b[1;32mfor\u001b[0m \u001b[0mi\u001b[0m \u001b[1;32min\u001b[0m \u001b[0msample\u001b[0m\u001b[1;33m:\u001b[0m\u001b[1;33m\u001b[0m\u001b[1;33m\u001b[0m\u001b[0m\n\u001b[0m\u001b[0;32m      2\u001b[0m     \u001b[0mprint\u001b[0m\u001b[1;33m(\u001b[0m\u001b[0mi\u001b[0m\u001b[1;33m)\u001b[0m\u001b[1;33m\u001b[0m\u001b[1;33m\u001b[0m\u001b[0m\n",
      "\u001b[1;31mNameError\u001b[0m: name 'sample' is not defined"
     ]
    }
   ],
   "source": [
    "full_chat = \"\"\n",
    "for i in sample:\n",
    "    full_chat + = sample[\"Message\"]"
   ]
  },
  {
   "cell_type": "code",
   "execution_count": 28,
   "id": "029acd36",
   "metadata": {},
   "outputs": [],
   "source": [
    "#https://stackoverflow.com/questions/33404752/removing-emojis-from-a-string-in-python\n",
    "def remove_emoji(string):\n",
    "    import re\n",
    "\n",
    "    emoji_pattern = re.compile(\"[\"\n",
    "        u\"\\U0001F600-\\U0001F64F\"  # emoticons\n",
    "        u\"\\U0001F300-\\U0001F5FF\"  # symbols & pictographs\n",
    "        u\"\\U0001F680-\\U0001F6FF\"  # transport & map symbols\n",
    "        u\"\\U0001F1E0-\\U0001F1FF\"  # flags (iOS)\n",
    "    \"]+\", flags=re.UNICODE)\n",
    "    return emoji_pattern.sub(r'', string) # no emoji"
   ]
  },
  {
   "cell_type": "code",
   "execution_count": 46,
   "id": "6efb51f5",
   "metadata": {},
   "outputs": [],
   "source": [
    "with open(\"Output.txt\", \"w\") as text_file:\n",
    "    \n",
    "    full_str = \"\"\n",
    "    for i in sample[\"Message\"]:\n",
    "        try:\n",
    "            text_file.write(remove_emoji(i))\n",
    "            full_str += i\n",
    "        except:\n",
    "            text_file.write(\"emoji\")"
   ]
  },
  {
   "cell_type": "code",
   "execution_count": 47,
   "id": "8b74d6b7",
   "metadata": {},
   "outputs": [
    {
     "data": {
      "text/plain": [
       "'EZ ClapLULW FAKE STORIESSMARTEST UK PASSENGERS OMEGALULEZKKonaW WTFEZ JETsandwiches at a gun shotEZWeirdChamp don\\'t mock uk!games playedOMEGALUL NO SHOT OMEGALUL NO SHOTMEGALUL YESEZEZEZPepeLaugh OH NOD: CvvxqcCursed KILL HIM xqcCursed KILL HIMEZ ClapOMEGALUL FARMING UK JOKES OMEGALUL FARMING UK JOKES OMEGALUL FARMING UK JOKES OMEGALUL FARMING UK JOKES OMEGALUL FARMING UK JOKESTRUEEZEZ .EZEZMEGALUL KILLShoot em xdOMEGALUL truexqcL joe_theblonde is staying in the jungle using Twitch Prime! xqcL Thanks so much for re-subbing xqcL And continuing to support the stream! xqcLOMEGALUL AYO WTF?EZGachiPls banned from airlinegachiHYPER NICEEZEZHave we realised that JP is just a borderline terroristshoot them all xqcGob shoot them all xqcGob shoot them all xqcGob  xqcGobYEAH SO BEHAVE NICELYTHEY CAN FUCK U IF THEY WANTTHEY ARE DUTCH IDIOT OMEGALULEZyeah it happenSHOOTPepeLaugh JuiceTime yeah thanks:nerd_face: I NEED YOU TO LEAVE :nerd_face: I NEED YOU TO LEAVE :nerd_face: I NEED YOU TO LEAVE :nerd_face: I NEED YOU TO LEAVE :nerd_face: I NEED YOU TO LEAVE :nerd_face: I NEED YOU TO LEAVEEZ ClapEZ ClapThis guys lmaoEZEZOMEGALUL TRUEROB A COP @xQcOWfuck that idiotTry roleplaying? :)MEGALUL KILL THEM ALL MEGALUL KILL THEM ALL MEGALUL KILL THEM ALL MEGALUL KILL THEM ALL MEGALUL KILL THEM ALL MEGALUL KILL THEM ALL MEGALUL KILL THEM ALL MEGALUL KILL THEM ALL MEGALUL KILL THEM ALL MEGALUL KILL THEM ALL MEGALUL KILL THEM ALL MEGALUL KILL THEM ALL MEGALUL KILL THEM ALLEZ IT WORKED EZ IT WORKED EZ IT WORKED EZ IT WORKED EZ IT WORKEDEZTRUEEZ ClapyeahNA talking about smart OMEGALULthis guy is a rat fuckEZ EZ EZTRUE OMEGALULdelusional like u EleGiggle xqcowEZ fuck themWHAT LMAOxqcFlushed this is my fav emote eqcLEZ Clap STILL WINNINGU LIKE THIS ?TRUE TRUESMARTEST UK PASSENGERS OMEGALULgnight chat xqcl <3 <3 <3 <3 <3 <3 <3 <3 <3 <3 <3 <3 <3EZEZforsenCD WHATS GOODPepeLaugh TeaTime oh no no nono wonder why all u do is rant and tell stories??????? WTFTRUETD:THEY FUCK UP CRAZYJOKES ON YOU IM INTO THAT BOOBAEZ  JetEZEZ ClapUPSET a PASSENGER SERVICE AGENT IS THE WORST THINGYOU CAN DO IN AN AIRPORTWHAT HAHAEZ Claptrue @xqcowCHAOS AGANEIguessPepepains Pepepains this guy is such a fucking idiotEZ JETNA talking about smart OMEGALULyeahEZEZ ClapdPepeLaugh TeaTime Oh no no nohahahaha like dump childrenBOOSTEZOMEGALUL NO SHOTSIGMAS EZif ur rude and uncivil ur not catching ur flightKKonaW NICE STOREEZ\"THAT IS SO WEIRD, WHY WOULD YOU DO THAT\" PepeLaugh TeaTimeEZ ?ay it worked EZ ClapyesEZ JET OMEGALULEZgood plan but you can\\'t just be saying that coz these chat hoppers love being degensKAPOW NETHERLANDS BEST LANDS KAPOW NETHERLANDS BEST LANDS KAPOW NETHERLANDS BEST LANDS KAPOWPagChomp  PagMan PagChomp THEY WONa@xqcow pls storage warsxqcL PedosaurusRekt is staying in the jungle using Twitch Prime! xqcL Thanks so much for re-subbing xqcL And continuing to support the stream! xqcLEZ ClapROB THISGUY GOES \"HOLY SHIT\"EZ ClapYES PeepoGlasThey can even be worse cucklords tbhTRUE LULWEZ Clap AANRANDINGLULW truePogU   SAVEDlolTRUEholy shitEZ Jett ValorantUK cryingD:Yeah you don’t mess with airport workersEZD:MOD FRICKING BAN ME UR MOM\"S AN IDIOTTHIS nice oneEZEZCAUSE CHAOSstolen from chat :sleeping_face: xqcowEZ Clap EZ Clap EZ Clap EZ Clap EZ Clap EZ Clap EZ Clap EZ ClapEZ ?GEKOLONISEERD EZ GEKOLONISEERD EZ GEKOLONISEERD EZ GEKOLONISEERD EZ GEKOLONISEERD EZ GEKOLONISEERD EZEZEZ ClapEZ JETnot like that or like THISEZ ClapxqcL r3d8ug is staying in the jungle! xqcL Thanks so much for re-subbing xqcL And continuing to support the stream! xqcLEZ ClapgachiHYPER SUPER HARDEZ Clap:tf: Problem?7WtfEZLMAOYEPEZEZEZEZXD HAHAHAHbut why OMEGALUL you havent even been fucked by the cops recentlygn man:tf: Make me leaveEZ sigmaEZwtfIM READY PagManEZ JAILD:EU FTW EZ Clap EU FTW EZ Clap EU FTW EZ Clap EU FTW EZ Clap EUFTW EZ Clap EU FTW EZ Clap EU FTW EZ Clap EU FTW EZ Clap EU FTW EZ Clap EU FTW EZ Clap EU FTW EZ Clap EU FTW EZ Clap EU FTW EZ Clap EU FTW EZ Clap EU FTW EZ Clap EU FTW EZ Clap EU FTW EZ Clap EU FTW EZ Clap EU FTW EZ Clap EU FTW EZ ClapOMEGALUL the late arguments are braindeadPepeLaugh oh no no noJust leave dudeJOKES ON YOU IM INTO THAT gachiBASSTRUEah yes, very british sounding @xQcOWOMEGALUL NO WAYEZxqcL shadowmonster70 just joined the jungle using Twitch Prime! xqcL Thanks so much for subbing xqcL And supporting the stream! xqcLACTUAL ALPHA MALE EZEZ JETtrue muniSipTwaT CARPARKPepeLaugh TeaTime lets see this shitEZLULW DONT BE LATE DUMBASSOMEGALUL WE WONEZlmfaoactual retard OMEGALULThis is gonna be good MEGALULsigma EZEZ Cla[pEZOMEGALUL TRUEEZTRUETHIS TRUEhe seems ok with it though FeelsGoodManWTF WTF WTFEZ JETyeahok man WierdChampmore crying pepeAgonyEZ WTFchat is retarded3Head wtf bruvNA TALKING ABOUT SMART PEOPLE PepeLaugh NA TALKING ABOUT SMART PEOPLE PepeLaugh NA TALKING ABOUT SMART PEOPLE PepeLaughnow see that\\'s a better motiveEZ JETKill them ALLsmarter than usEZ1EZEZD:KILL GlitchNRGHELL YEAH LULWEZ ClapThey are following rules. Its not their fault FeelsBadManjust leavePepeLaugh TeaTime oh no no noWhy the fuck do Karen\\'s that are late to their fights get special treatmentEZ GEKOLONISEERD EZ GEKOLONISEERD EZ GEKOLONISEERDTRUEEZLMAONow they smiling? def moronsLULW CLASSIC JProb burgershitEZ Clap EZ Clap EZ Clap EZ Clap EZ Clap EZ Clap:tf: U MAD? :tf: U MAD? :tf: U MAD?IN NA THEYD ALREADY BE ARRESTED BOOKED AND CHARGED OMEGALULTRUETRUEEZ ClapEZWtfE ZEZGREAT RPPepeLaugh THIS IS NOT GONNA GO WELLOh no no PepeLaughTRUELATE=WORKERS FAULT OMEGALUL LATE=WORKERS FAULT OMEGALUL LATE=WORKERS FAULT OMEGALULTRUEEZTHESE WORKERS ARENT ANY GOOD EITHER OMEGALULEZOMEGALUL WTF ?????Pepepains thanks for not being a massive cuntQQ parking0.01% chanceTHIS ITRCHY NEEDS SUCKwhat a bitchEZ Clapno shot muniLULxqcHead its the chat dudxqcBased TeaTime HOLY SHITpretend pretend copsEZROB THlS THISgo home too badNVL GODEZ2000\\'s security OMEGALUL 2000\\'s security OMEGALUL 2000\\'s security OMEGALUL 2000\\'s security OMEGALUL 2000\\'s security OMEGALULLIKE WHATkiss me xqCOW xqcFlushed :flushed_face:TRUEPagMan SMARTEST UK GUY PagMan SMARTEST UK GUY PagMan SMARTEST UK GUY PagMan SMARTEST UK GUY PagMan SMARTEST UK GUY PagMan SMARTEST UK GUY PagMan SMARTEST UK GUY PagMan SMARTEST UK GUYtrue it dependsEZ JETZ:nerd_face: I NEED YOU TO LEAVE :nerd_face: I NEED YOU TO LEAVE :nerd_face: I NEED YOU TO LEAVE :nerd_face: I NEED YOU TO LEAVE :nerd_face: I NEED YOU TO LEAVEoh no no PepeLaughJUST LOCKPICK THE PLANE DUMBASS FailFish JUST LOCKPICK THE PLANE DUMBASS FailFish JUST LOCKPICK THE PLANE DUMBASS FailFish JUST LOCKPICK THE PLANE DUMBASS FailFish JUST LOCKPICK THE PLANE DUMBASS FailFish JUST LOCKPICK THE PLANE DUMBASS FailFishWICKEDEZEZEZ JETEZ ALPHA MANforsenCD MY CAR IS IN DANGER forsenCD MY CAR IS IN DANGER forsenCD MY CAR IS IN DANGER forsenCD MY CAR IS IN DANGER forsenCD MY CAR IS IN DANGER forsenCD MY CAR IS IN DANGER forsenCD MY CAR IS IN DANGER1FeelsWeirdMan WTFEZIT WORKED HOLY SHITEZ ClapLOLTHEYRE FROM HOLLAND YOU RETARDEZyepWeirdChamp WEIRD DUDE WeirdChamp WEIRD DUDE WeirdChamp WEIRD DUDE WeirdChamp WEIRD DUDEWeirdChamp WEIRD DUDE WeirdChamp WEIRD DUDE WeirdChamp WEIRD DUDEThey can ban you LULWThey can be. I used to work there but customers are mostly jackassJUST LIKE YOU IN RP\"smartest uk andies\"EZ jetNO WAYOMEGALUL NICEGOODD:Not on Duty so its Loitering xDtoo badEZ JETOMEGALUL LOST TO PARKING LOTxDforsenCD MY CAR IS IN DANGER forsenCD MY CAR IS IN DANGER forsenCD MY CAR IS IN DANGERLMAOthat guy kinda sounds like mingidiotEZforsenCD I HAVE A FEELINGEZPepeLaugh CokeTime oh no no noDO BOOSTevil D:EZ Clap EZ Clap EZ Clap EZ ClapPepeLaugh noshit companyWTF BOOBAWow 10-15 SUCH  long timeWHAT THE FUCK LULWEZ jetNice guysreusing content lolPeepoGlad YEPEZWhat a nice guyPepeLaugh TeaTime oh no no noYEP TRUEWTFEZEZ IT WORKED EZ IT WORKED EZ IT WORKED EZ IT WORKED EZ IT WORKEDIm always like 23 hours before my flight at the airport OMEGALULD:D: ?OK DUDGachiPls crashCHAOSEZwamen dude I swearwhat is a cunt LULIT\\'S FAIRhow about you be on time EZShot it Fake copit says EASY jetFClap ok@michw1 sooooo cuteEZ@heyeazyy (29 Aug 2021): Just Chatting, Apex Legends, Bloons TD 6, Grand Theft Auto V1ezNO SHOT OMEGALULBibleThump PLEASE HAVE THE PLANE LAND BACK DOWN BibleThump PLEASE HAVE THE PLANE LAND BACK DOWNok dudwhy are they so madPepeLaugh TRUELolSHOOT HERTRUEEZOH GOD LULWno wayGOOD DESERVED ANYONE WHO SAYS DIFFERENT HASNT WORKED IN SERVICEI ENJOYED MY STAY <3 I ENJOYED MY STAY <3 I ENJOYED MY STAY <3 I ENJOYED MY STAY <3 I ENJOYED MY STAY <3mightyoaks :backhand_index_pointing_right: asallana monkaW logs wtf?EZ ?EZPagMan SMARTEST UK GUY PagMan SMARTEST UK GUY PagMan SMARTEST UK GUY PagMan SMARTEST UK GUY PagMan SMARTEST UK GUY PagMan SMARTEST UK GUYITS THE PARKING FAULTEZ winYEA TRUEEZ ?EZDO BOOSTOMEGALUL WTF?now dont leave :tf:EZTRUEEZEZ:tf: mad?WTF WTF WTF !!@rredpath noMEGALUL YES BLOODwtfKILL EM ALL MEGALULOMEGALUL WTFThey can ban you from fligths OMEGALULEZ ClapLULZxqcL Apazo is staying in the jungle! xqcL Thanks so much for re-subbing xqcL And continuing to support the stream! xqcLLOLWTF OMEGALULEZ Sigma male grindsetTRUEno bank = no rp SadgePeepoGlad good luckEZTRUETRUEsounds easy PepeLaugh2Chatting pepe laughedentitled motherfuckerswtf?xqcFlushed  :flushed_face:  kiss me xqCOW xqcFlushed :flushed_face:where does she work :DgachiHYPER WTFEZYEPTIME TO BE a massive cuntsmartest dutch citizen FeelsStrongMan@noverrr2, I\\'m EU but IQ doesn\\'t represent Intelligence OMEGALULPUT THE GAS ON THE CARS, GET OUTSIDE, SHOOT FROM OUTSIDE!!!!good plan guysNo banks = no rp lulwoh yesPagMan SAVEDFUCK YEAH1EZEZ TeaTimeEZ JETEZKill em allact important enough get what you want... got it.TRUEin the ass yeahLUL MOD FRICKING BAN ME UR MOM\"S AN IDIOToh godEZ ClapWTFEZ ClapEZthanks for not being a massive yeah muniSipPepeLaugh oh no no noTRUE OMEGALULYEPEZTRUEYeah, they dont deserve the treatments they getS OMEGALUL MADEZ@xQcOW yep, especially flight attendants, they can just kick you out of a planegachiGASM fuck meWHAT A BITCH omgitsdrew661W3Head WTF :anger_symbol:EZ ClapXQC STEALING CHAT\\'S JOKES WeirdChamp XQC STEALING CHAT\\'S JOKES WeirdChamp XQC STEALING CHAT\\'S JOKES WeirdChamp XQC STEALING CHAT\\'S JOKES WeirdChamp XQC STEALING CHAT\\'S JOKES WeirdChamp@xQcOW once i had a 2 way flight and they fucking stalled me for 30 minutes and almost missed my flightMOD BAN ME BET U GUYS TRASH OMEGALUL UR MOMS A BITCHJUST KILL THEM ALLEZ ClapOh no he forgorur fucking crazy man i love it LULWEZSOUNDS TERRIBLExqcL traniel_dan is staying in the jungle using Twitch Prime! xqcL Thanksso much for re-subbing xqcL And continuing to support the stream! xqcL\"Unfortunately\" :)spitefulHappy endingpog ur aunt is a shitty employeeEZFake copTRUEyepEZ?gekoloniseerd EZyepEZBoris certainly has a tough timeEZforsenCD MY CAR IS IN DANGER forsenCD MY CAR IS IN DANGER forsenCD MY CAR IS IN DANGER forsenCD MY CAR IS IN DANGER forsenCD MY CAR IS IN DANGER forsenCD MY CAR IS IN DANGERPLZ SHOOT HERIT\\'S TSUNAMI ANYWAY THERE\\'S NO POINTEZxqcHead SMARTEST IN EU xqcHead SMARTEST IN EU xqcHead SMARTEST IN EU xqcHead SMARTEST IN EUYESWickedWTF OMEGALULChatting LET ME SPAM AYAYA Chatting LET ME SPAM AYAYA Chatting LET ME SPAM AYAYA Chatting LET ME SPAM AYAYA Chatting LET ME SPAM AYAYA Chatting LET ME SPAM AYAYAYEPluckyok? that\\'s cool i guess\"why\" what do u mean why jean paul hates cops OMEGALULyou like THIS xqcow,ROB THlS THIS ROB THlS THIS ROB THlS THIS ROB THlS THISSTOP THE COUNTNA  talking about smart OMEGALUL1LULW goodalmost said on time EZyou  like THIS xqcowMEGALUL  YESEZ Clap aunty  EZ Clap aunty  EZ Clap aunty  EZ Clap auntyOMEGALUL NO SHOT OMEGALUL NO SHOT OMEGALUL NO SHOT OMEGALUL NO SHOT OMEGALUL NO SHOTEZ ClapD: WTF:flushed_face::backhand_index_pointing_right::backhand_index_pointing_left: yes pleaseEZNA TALKING ABOUT SMART OMEGALULLMFAOEZwtf are those vestsEZ ClapPepeLaugh no fly listTHRILL JUNKIE LULWWHY YOU ACTING LIKE A FU KING KAREN OMEGALULOMEGALUL WTFBoostniceGOODSMARTEST AND CALMESTEZwtf OMEGALULEZ ClapEZEZGOODgood on mr cowTell a fake story againthat\\'s why be nice on nopixelPepeLaugh OH NO NOEZYES PogUPagMan SAVEDSAVED OMEGALULWTF OMEGALULEZ ClapPepeLaugh no badge recruitEZEZ Clap IT WORKED EZ Clap IT WORKED EZ Clap IT WORKED EZ Clap IT WORKED EZ Clap IT WORKED EZ Clap IT WORKED EZ Clap IT WORKEDoh yeahSHUT THE FUCK UP CHATY even reward them tfOH YEAH FOR SUREACTUAL ALPHA MALE EZ ACTUAL ALPHA MALE EZ ACTUAL ALPHA MALE EZ ACTUAL ALPHA MALE EZEZ ClapPeepoGlad trueEZKILL HIM MEGALULOMEGALUL WTFaBibleThump PLEASE HAVE THE PLANE LAND BACK DOWN BibleThump PLEASE HAVE THE PLANE LAND BACK DOWN BibleThump PLEASE HAVE THE PLANE LAND BACK DOWNEZ IT WORKEDEZEZCruW EASY CrUWEZ ?EZ JEYOMEGALUL ARGUINGLMAO?gMEGALUL KILL THEM ALLEZTrue OMEGA l&LULULULUExpose familyOMEGALUL WTFD:EZ Clap\"THAT  IS SO WEIRD, WHY WOULD YOU DO THAT\" PepeLaugh TeaTimewtfEZEZHey guys did he successfully rob the bankPogU  SAVEDLeaveEZEZ JETwtfACTUAL ALPHA MALE EZ ACTUAL ALPHA MALE EZ ACTUAL ALPHA MALE EZ ACTUAL ALPHA MALE EZ ACTUAL ALPHA MALE EZEZxqcHead lolEZ always worksEZEZCHAOS CONTROLROB THISI WANNA BET ON IF THIS WORKS PLEASE OMEGALUL1wtfEZ ClapLMFAOEZ ClapEZtrue probablySHE SOUNDS FUNloved the streamEZEZ THEY MADE ITD:YES muniREE\"thanks for not being a huge cunt\" lmaooooEZ jetTHIS BITCH:well that was a weird thing to sayOMEGALUL WTFthere lucky they didnt get shotEZ Clap?EZEZT@xqcow it\\'s nice to be nice you know lul@xQcOW Fake storyif that was in na they wouldve been shit LULWWHAT A BITCH OMEGALULoh no what is thisEZCHAT WAR FeelsGoodManstuck in parking? wtfdude wat some weirdosJUST BE NICE1X WHY MUST YOU TEASE THE COPPERSEZTRUEEZEZEZ ?gachiHYPER RLY HARD?OH NOQuebec people are rudeWEEBS WIN AYAYA Clap  WEEBS WIN AYAYA Clap  WEEBS WIN AYAYA Clap  WEEBS WIN AYAYA Clap  WEEBS WIN AYAYA ClapEZEZEZ ClapSTOLE  MY JOKE WeirdChampEZBRO THEY GONNA SNITCH ON YOUR ASS OMEGALULEZD:EZalso trueEZ IT WORKEDlTRUEEZ ClapWTFNO WAY XDOMEGALUL wtfEZ JETEZwtf LULWPepeLaugh OH NO NO  PepeLaugh OH NO NO  PepeLaugh OH NO NO  PepeLaugh OH NO NO  PepeLaugh OH NO NOEZ JETstolen  from chat :sleeping_face: xqcowDO I SPAM TRUE NOW?Imagine being courteous to people...EZ ClapPepepains \"thanks for not being a massive cunt\"fuck them lmaoREGION WARS PagChomp nymnCorn REGION WARS PagChomp nymnCorn REGION WARS PagChomp nymnCornEZYE IM SUCH A PETTY BITCH AT MY JOB IF THEY BE A CUCKLORD OMEGALUL\"WHAT IS THIS RP DUD\" PepeLaugh TeaTimeEZOMEGALUL WTFEZEZ WE GOING BACK BOYSEZ sigma malexqc ur brain\\'s worse than ur mod\\'s brain....thats so fricked up  MODS BAN MEEZNOT EU CHAT UK SMHNOT EU CHAT UK SMHNOT EU CHAT UK SMHNOT EU CHAT UK SMHNOT EU CHAT UK SMHNOT EU CHAT UK SMHNOT EU CHAT UK SMHNOT EU CHAT UK SMHNOT EU CHAT UK SMHNOT EU CHAT UK SMHNOT EU CHAT UK SMHwhen the pretty privilege FAILS... LULPepeLaugh ohno no no noMEGALUL KILL ALLNot even from the UK niceinnocent bystander EZEZ EZ ?OMEGALUL we will be arrested :)PepeLaugh this isnt going to end wellGOOD MORNINGayo wtf1EZ Clap EZ ClapOMEGALUL wtfhahahahahHAAHAH god dmn x sometimes u make me laugh too much manCAUSE CHAOSEZNot uk dumbassEZyeahTRUEPepeLaugh niceACTUAL SIGMA MALE EZPepeLaugh OH NO NO  PepeLaugh OH NO NO  PepeLaugh OH NO NO  PepeLaugh OH NO NO  PepeLaugh OH NO NO  PepeLaugh OH NO NOPepeLaugh Oh no no noterrorism have a good oneEZ :backhand_index_pointing_right: :house: WE GOING BACK BOYSPogU  SAVEDMEGALUL KILL THEM ALLxqcL zilzzz_ is staying in the jungle using Twitch Prime! xqcL Thanks so much for re-subbing xqcL And continuing to support the stream! xqcLyeahWYou can better just be nice with them it will help you so much LULWvGoldenHour, i have no points eavSipEZ JETEZthe producer said hey stack the charges for a bit we need the content @xQcOWLEAVE AND COME BACKtrue always be nice to peopleYEPEZ JETgood morning xqcLPUT THE GAS ON THE CARS, GET OUTSIDE, SHOOT FROM OUTSIDEJUST BE NICEEZ:tf: noPepeLaugh TeaTime oh no no noSHOUTING WORKS EZ ClapEZ JETNo but lmaoEZ EZ EZ EZ EZ EZEZ jetThey actually have a lot of power. They can deny you to fly and put you on a ban because you’re agitated. Be nice to airport personnel.FeelsWeirdMan WTFforsenCD Im Getting a weird feelingCrying all dayEZ ClapTRUEPepeLaugh oh no no noshoot them all xqcGob shoot them all xqcGob shoot them all xqcGobffs OMEGALULchat is sexy <3 chat is sexy <3 chat is sexy <3 chat is sexy <3 chat is sexy <3 chat is sexy <3 chat is sexy <3 chat is sexy <3 chat is sexy <3 chat is sexy <3 chat is sexy <3CHAOS AGANEIguess CHAOS AGANEIguess CHAOS AGANEIguess CHAOS AGANEIguess CHAOS AGANEIguess CHAOS AGANEIguess CHAOS AGANEIguess CHAOS AGANEIguess CHAOS AGANEIguess CHAOS AGANEIguess CHAOS AGANEIguess CHAOS AGANEIguess CHAOS AGANEIguess CHAOS AGANEIguessyeahPepeLaugh OH NO PepeLaugh OH NO PepeLaugh OH NO PepeLaugh OH NO PepeLaugh OH NO PepeLaugh OH NOEZEZ JETDansGame KissEZ  ClapBatChest FORSEN FORSEN I\\'M YOUR NUMBER ONE FAN BatChest FORSEN FORSEN I\\'M YOUR NUMBER ONE FAN BatChest FORSEN FORSEN I\\'M YOUR NUMBER ONE FAN BatChest FORSENEZ ACTUAL ALPHATHANKS FOR NOT BEING A MASSIVE CUNT LULWthats a good planwtf OMEGALULMEZ . o O ( Kappa ) EZ . o O ( Kappa ) EZ . o O ( Kappa ) EZ . o O ( Kappa ) EGALUL MY KIND OF PLANROB THISPepeLaugh TeaTime oh no no nojust be niceLOLEZ JETEZnice clothes lolEZ JETEZ jetEZ ClapEZEZ ClapEZOMEGALUL ARGUINGSMARTEST  UK PASSENGERS OMEGALULEZ ClapEZ ?EZ IT WORKEDEZ ClapOMEGALUL nice its in the blood OMEGALULoh pleaseIT PAYS TO BE NICEEZ ClapEZ EZEZmonkaW WTF WAS THAT ON SCREENEZthey can literally just call security and kick you out@unhexion are you good bruhEZforsenCD MY CAR IS IN DANGERAYAYA NEKO GIRLS R THE BEST AYAYA NEKO GIRLS R THE BEST AYAYA NEKO GIRLS R THE BEST AYAYA NEKO GIRLS R THE BEST AYAYA NEKO GIRLS R THE BESTD::Netherlands: GEKOLONISEERD EZ Clap :Netherlands: GEKOLONISEERD EZ Clap :Netherlands: GEKOLONISEERD EZ Clap :Netherlands: GEKOLONISEERD EZ Clapnice joke x recyledTHEY PROBABLY HID THE CARS BY NOW @xQcOWTHEY ARE DUTCH. FUCK OFF BITCH OMEGALUL OMEGALULPepeLaugh OH NO PepeLaugh OH NO PepeLaugh OH NO PepeLaugh OH NO:Netherlands: GEKOLONISEERD EZ Clap :Netherlands: GEKOLONISEERD EZ Clap :Netherlands: GEKOLONISEERD EZ Clap :Netherlands: GEKOLONISEERD EZ Clap 4FeelsGoodMan good peopleTRUEfake copsFeelsWeirdMan KINDA WEIRDPepeLaugh OH NO NO  PepeLaugh OH NO NO  PepeLaugh OH NO NO  PepeLaugh OH NO NO  PepeLaugh OH NO NOEZEZEZ JET:Netherlands: GEKOLONISEERD EZ Clap :Netherlands: GEKOLONISEERD EZ Clap :Netherlands: GEKOLONISEERD EZ Clap :Netherlands: GEKOLONISEERD EZ Clapjust be nice :)xqcL TheBusso is staying in the jungle using Twitch Prime! xqcL Thanks so much for re-subbing xqcL And continuing to support the stream! xqcLEZ CLAP\\x01ACTION : Feel free to join my discord! https://discord.gg/xqcow (you don\\'t have to be a sub) and follow Twitter! https://twitter.com/xQc\\x01D: WTFelisOmega  real and trueTHIS TARD... WHATS USEFULL THAT MONEY INT HE BANK WHEN ITS ALREADY TOO LATE AND YOIU DEAD! CASH OUT ALREADY FFSEU MAD LULW LULW EU MAD LULW LULW EU MAD LULW LULW EU MAD LULW LULW EU MAD LULW LULW EU MAD LULW LULW EU MAD LULW LULWthey are late nothing to argue aboutYEAH EXACTLYEZ storm securityACTUAL ALPHA MALE EZ ACTUAL ALPHA MALE EZ ACTUAL ALPHA MALE EZ ACTUAL ALPHA MALE EZ ACTUAL ALPHA MALE EZ ACTUAL ALPHA MALE EZEZ Clap@smexie Lol RP is dead ash and boringKISS LULYOU  LIKE WHAT YOU SEE THISYES YES YES YES YES YES YES YES YES YES YES YES YES YES YES YES YES YES YES YES YES YESBatChest Good one!!EZRICH PEOPLE LULWLolEZTRUETERRORISMEZthe assholes deserve to be fucked over honestlyTRUEFINALLY SOME EXCITEMENTWTFEZ Clap AANRANDING EZ Clap AANRANDING EZ Clap AANRANDING EZ Clap AANRANDING EZ Clap AANRANDING EZ Clap AANRANDINGwtfOMEGALUL WTFEZShe fucked everyone :rolling_on_the_floor_laughing::rolling_on_the_floor_laughing::rolling_on_the_floor_laughing::face_with_hand_over_mouth: whaahhaahaSMARTEST UK MAN PagMan SMARTEST UK MAN PagMan SMARTEST UK MAN PagMan SMARTEST UK MAN PagMan SMARTEST UK MAN PagMan SMARTEST UK MAN PagMan SMARTEST UK MAN PagMan SMARTEST UK MAN PagMan SMARTEST UK MAN PagManEZ ClapEZ Clap IT WORKED EZ Clap IT WORKED EZ Clap IT WORKED EZ Clap IT WORKED EZ Clap IT WORKED EZ Clap IT WORKED EZ Clap IT WORKEDCHAOS AGANEIguess CHAOS AGANEIguess CHAOS AGANEIguess CHAOS AGANEIguess CHAOS AGANEIguess CHAOS AGANEIguess CHAOS AGANEIguessSo evilim from uk and trueTRUEEZTHEY DO HELPThis is already a failure PepeLaugh<3EZjoin the BR SERVERcop go BOOOOOOM = me happyNo fun KarenPepeLaugh what a cunt PepeLaughGAWD FUCKING DAMN KreygasmYEPEZ SIGMAdelusional  like u EleGiggle xqcowxqcL soy__gamer just joined the jungle! xqcL Thanks so much for subbing xqcL And supporting the stream! xqcLEZEZOMEGALUL WTFEZ CHECKNo shot:nerd_face: I NEED YOU TO LEAVE :nerd_face: I NEED YOU TO LEAVE :nerd_face: I NEED YOU TO LEAVE :nerd_face: I NEED YOU TO LEAVE :nerd_face: I NEED YOU TO LEAVE :nerd_face: I NEED YOU TO LEAVETRUESHOOT THEM ALLWICKEDNO WATCH OMEGALUL NO WATCH OMEGALUL NO WATCH OMEGALUL NO WATCH OMEGALUL NO WATCH OMEGALULLMAOEZEZezEZWhite privilegePeepoGlad trueEZ IT WORKEDMAKING THE SERVER LESS BORINGnice@xQcOW can you pause the video i gotta go and jerk offEZTRUETHEY CAN FUCK UP UYPUR DAY IVE DONE IT lmaoYesEZPepeLaugh oh noTHIS IS FINEstolen from chat :sleeping_face: xqcowEZT:tf: u mad?yesxqcFlushed :flushed_face:  kiss me xqCOW xqcFlushed :flushed_face:EZEZ  Clap YOUR AUNTEZ Clap1ASS CHEEKSCHAOSPervertEZMEGALUL KILL KILL KILL MEGALULEZEZ WARLORDI love uPepeLaugh oh noacan you talk only how to be bad in OW no moreezEZ ClapYEP AND YEP1EZtheir not from uk retardNO FLY LIST OMEGALULEZthats ok. car boost?How to PISS X OFF LULW How to PISS X OFF LULW How to PISS X OFF LULW How to PISS X OFF LULWSHOOT HETROB  THISstealing chats joke WeirdChamp1Kiss the airport peeps feet thats what my mama tol meDUMBEST PERSON IN THE UK IS THE SMARTER THEN THE SMARTEST PERSON IN NAPre 9/11 security OMEGALUL Pre 9/11 security OMEGALUL Pre 9/11 security OMEGALUL Pre 9/11 security OMEGALUL Pre 9/11 security OMEGALULfuck your auntiexqcJuice  o okI winEZ ClapYEP COCKEZ ClapEZ ?EZ ClapEZ ?EZwtf LUL LULkill them allEZ3Head WTF :anger_symbol:they can ban you3Head  WTF :anger_symbol:sigma grindset EZyea sometimes they fuck you overthey take all the shit for problems they have no power oivernoatleast change your damn clothes NotLikeThisOMEGALUL WTFEZEZ EZwtf OMEGALULEZxqcL 35eggnog is staying in the jungle using Twitch Prime!xqcL Thanks so much for re-subbing xqcL And continuing to support the stream! xqcL3Head u bloody what bruv? @xQcOWYou won this THIS WEEBSWTFYES YES YES YES YES YESEZEZ ClapEZJUST BE NICEmalding x1000 incoming, get ready, xqc mald speech take incomingWTF ???EZ ClapezEZyeahPogU   SAVEDTRUE  LULWEZPagChomp PagMan PagChomp THEY WONEZNO SHOT OMEGALUL@teddyzdeath it\\'s far from dead bud\\x01ACTION : Feel free to join my discord! https://discord.gg/xqcow (you don\\'t have to be a sub) and follow Twitter! https://twitter.com/xQc\\x01Definitely a little more planning in itcars broken PepeLaughEZ Clap winEZ WORKEDd:EZEZ JETO_oLMFAO ITS ANARCHYEzTwaT 3Head:( :( :( :( :( :( :( :( :( :( :(yea sometimes they dont know what they are doing and might screw upEZ ?@xQcOW pls link this videoHotPokket leaveeasy jet so make it easy 4HeedNO GAS YOURE DONEZO!NO RP ALLOWED OMEGALUL NO RP ALLOWED OMEGALUL NO RP ALLOWED OMEGALUL NO RP ALLOWED OMEGALUL NO RP ALLOWED OMEGALUL NO RP ALLOWED OMEGALUL NO RP ALLOWED OMEGALULmistakes that bann working ppl Hmm[Scramble] A scramble game has started.  Unscramble the following word to win: xerloep[Trivia] No one answered correctly. FeelsBadMan The answer was: \" corporate ladder \"glacier freeze is my shitselphyGasm no tummyStop monkaSxqcI good morning eynahlEmiru is really hot, I\\'ll allow that emote @crashfortThank you for subscribing with prime gaming for 13 months FleekTheBean meow MYAAAdeadyou have to deal with people with questionable mental healthI wanna go crazy SHRUGGERSwhat did he even do with that car, it didnt fit in his garage right?\\x01ACTION brian6932 won the fight!\\x01its been a good run FeelsStrongMan 7 see you in 6 monthsIf my phone falls on my face i will be mad at wrangler02lmao xD nerdnah gaytgod damn it kevinnicolas cage seems like the type of actor that would still be making sucessful movies and shithamnp yeah im not talink about a pp like that OMEGALULgThanks for gifting Matross_ a sub, EIectricEvil meow MYAAAim getting a comfy and possibly kiss emote commissioned in the same style brian6932no ugn tomi veiSleepsodaShy Want to help out Chance and get a badge next to your name? Gift a sub: https://bit.ly/2KPcW7h sodaPog You can now gift anonymously.t[Trivia] @brian6932 johnny sins is close. [Similarity: 50%][Trivia] @nacchikins You answered the question correctly and got 10 points. FeelsGoodMan The answer was \" Sunshine Vitamin \". [Similarity: 100%]Thank you for subscribing with prime gaming for 45 months mugetsu357 meow MYAAAanti water[Trivia] As conservative in his fashion as he is in his politics,politician Rick Santorum is known to favor what clothing item?liesveiF summon failedthat\\'s a damn shameEZimagine robbing a bank looking like thatMake sure to follow the stream! :)[Scramble] A scramble game has started.  Unscramble the following word to win: aemusssodaH Chance\\'s official merch store: https://www.sodapoppin.shop/ Discount codes: POOR, POOR10, 20, 25, 30, 35, 40 (40 only works on classic tee) | Support: sodapoppin@teespring.comNo beb until tnk xqcL meyungyee more like youngyeeNo[Trivia] Pop star Pink has blushed pink before but says, \"I also loved Mr. Pink\", a character in this Tarantino filmFeelsDankMan wtfi need professional helpxqcI good evening Mr Sommmer, anything you wanna say to the people here listening to you?this isnt a \"did you press the on button\" type easy help MadgeSodapoppin\\'s discord https://discord.gg/sodapoppin (Do sub not have to be to join)sodaH Chance\\'s official merch store: https://www.sodapoppin.shop/ Discount codes: POOR, POOR10, 20, 25, 30, 35, 40 (40 only works on classic tee) | Support: sodapoppin@teespring.comno stream until after christmaswhen you sleep 12 hours do you feel like trash OhNowISeesodaShy Want to help out Chance and get a badge next to your name? Gift a sub: https://bit.ly/2KPcW7h sodaPog You can now gift anonymously.Thank you for subscribing with prime gaming for 2 months winwalkerwicked meow MYAAA@melloal Keyboard is a Glorious GMMK Pro with: Aluminum Plate, Glorious Pandas (lubed) switches, Nebula coiled cable, and a mix of Nebula and Rain Forest key caps. https://www.twitch.tv/videos/1134433347GodxqcI did you called this reporter a fucking loser too Mr razzy?me :)SMH:(It\\'s not a bad idea[Trivia] @brockovitch You answered the question correctly and got 7 points. FeelsGoodMan The answer was \" Friendly Skies \". [Similarity: 74%][Scramble] A scramble game has started.  Unscramble the following word to win: sraefpokiW moon2W sodaW forsenW I\\'m pure as freshly fallen snow ClapTHATS OK SmadgepokiW moon2W sodaW forsenW I\\'m pure as freshly fallen snow Clap!randomping TANTRUMEZhttps://www.youtube.com/watch?v=OT_aDZc3vXY it looks pretty bad[Trivia] A popular game on many college campuses,beer pong is typically played with a ball from what sport?no pattiiSITWICKED you did a thingWTF sodaTantrumdamn that cat rp video has some Pepega qualityim streaming in discordEven though if i do node main.js it works fine\\x01ACTION Hogings just won 47 xD points! PogChamp\\x01Hmm how long will mr streamers schedule continue to be fucked02:00 am dragonicdrago: im the weeb SMOrc Weird[Trivia] Because it causes painful throat contractions that make swallowing water difficult,rabies is also called what?711 food, good god man, have some respect for yourself711 food is alright. especially their pizza and chicken TastygeSadge good luck jazzystupid class being onlinetomi YOU THINK MY DICK IS SMALL Smadge ?No it\\'s not[Trivia] \"The wheel is turning, but\" this rodent, Cricetus cricetus, \"is dead\"[Trivia] No one answered correctly. FeelsBadMan The answer was: \" Joseph Mccarthy \"slam the fartno copenah I remember last timeI wish I could tanEZ x2SpeedL wow SpeedR[Trivia] @steveshepard beauty is close. [Similarity: 56%]PxqcI that was... interestingTim drunk idk why i want ed trivia in the first place[Trivia] The name of these tiny dumplings served as a side dish means \"little sparrow\" in Germansunshine vitaminNo sleep yet kaiouraPoutyou just hug me with my name in it FeelsDankMan[Scramble] @warringbulldog You answered the question correctly and got 10 points. FeelsGoodMan The word was \" fears \"xqcI mr bobo any goodnight wishes?fucknono really boss sodaHmmyou\\'re fucking loserYou disgust me Ultra sodaStareaight time to struggle and do my hw cuz teacher is useless[Trivia] Worth over $15 billion, Robson, son of Sam, runs this company, the USA\\'s largest private employer@crashfort, Stop shrugging PunOko:OI wish our streamer cared about us Sadgenah i love those sort of messageswrangler02 i only told u to come play with us peepoWTFdefinitely soon COPIUM2Bobo femboys are cute peepoWTFwhat bot Cluelessdoes chance still have his 55 gallon drum of lube or do we knowjust remind me in likesure ppL[Trivia] J. Edgar Hoover was convinced he saw this man have intercourse with Marilyn MonroeSodapoppin\\'s discord https://discord.gg/sodapoppin (Do sub not have to be to join)stupid questionEXPLAINING call me i need to cum i\\'m so horny; choke me, i\\'m so sadmacadamias are good afyeah if you end them in \\'adamnCluelessyes we are married eeya, hi wife muniDanceI\\'m so lazy to type out full sentences SadgeFeelsDankMan there is never a delay on chatterino @crashfortMcdonalds used to have pizza pretty sure but stoppeda full ass dayClueless surely soonit bothers me that every mcdonalds has different pricesu play apex pispet ?no u tomi@Nacchikins, ya thats why people with darker skin tones gotta be carefulsodaShy Want to help out Chance and get a badge next to your name? Gift a sub: https://bit.ly/2KPcW7h sodaPog You can now gift anonymously.Eeya can you sleep at night please happythoTuck@PenkTynk thank you sodaHUG@alienx420x, hoping for SSS without horror HYPERSescape from tarkov[Trivia] The rose known as \"Mme. Ferdinand Jamin\" became more popular in the U.S. when it was renamed \"American\" thischeerio\\x01ACTION Hogings won the fight!\\x01it fit, its thereyeah wow ppLwow[Trivia] From this author\\'s \"The Jungle\" I shall read lines like \"On the killing beds you were apt to be covered with blood\"@UltraSynapticSeizureNinja, Most likely. :)i think he has a massive debt problem and shit[Trivia] Dr. Spock wrote, you don\\'t have to teach a child to do this at 12-15 months; \"You won\\'t be able to stop him\"and it was actually fitting lmaoi just logged into FF and there were only 9 in queue sodaEZPANICTANTRUMend the sufferingit does make us smarter@Jazzykat Sadge I\\'m a science nerd, I can\\'t help SadgepeepoArrive  sss today ? (hopefully not horror games)xsBack to RImWorld, if anyone wants to play Halo message me sodaLwrong chati dont like\\x01ACTION AIterAce just won 39 xD points! PogChamp\\x01pulls out gun 🔫  sodaSmileModge woohoo mod work\\x01ACTION Drizin just won 91 xD points! PogChamp\\x01she has a weird eye within her eyeken deez nuts fit in yo mouth@rodwrahlan, seems like u missed last time PepeLaugh  good content@brian6932 yeah theres a lot of text happythoGiggletrue OMEGALULiguessu lose[Trivia] No one answered correctly. FeelsBadMan The answer was: \" Betty Grable \"sodaH Chance\\'s official merch store: https://www.sodapoppin.shop/ Discount codes: POOR, POOR10, 20, 25, 30, 35, 40 (40 only works on classic tee) | Support: sodapoppin@teespring.comvalueIt seems like my internet is fixedwhat are you talking about Clueless@TheUltraCoolCutieBoBo i dont like her eyeIF HE IS SMART[Trivia] A 2003 USA Today survey of all time great NLF QBs revealed the top 4 all have first names beginning with this letterhappythoBoop happy subs[Trivia] Anger about the first of these established by federal law spurred violent protests in NYC in July 1863like it\\'s just an ffz toggle at this point PepeLaughI can play games finallyoh shitWorst part, I don\\'t even like any other streamers SAdge@RiverrStyx sodapoppin has been offline for 1 day, 4 hours and 52 minutesamuses[Trivia] No one answered correctly. FeelsBadMan The answer was: \" Sugar Booger \"Bi dont want to wake my prince from his beauty sleep[Trivia] No one answered correctly. FeelsBadMan The answer was: \" old school \"Chatting \"fuck plants\"why is twitch so deadi miss vtuberWaddlebsodaTantrum shitty botSodapoppin\\'s discord https://discord.gg/sodapoppin (Do sub not have to be to join)[Trivia] No one answered correctly. FeelsBadMan The answer was: \" Larry O’Brien \"!fight myslefgood luckvalue[2021-04-30 02:55:48 UTC] theultracoolcutiebobo: Nah I cantFeelsDankMan okMadge nofearsCHEER@hogings Never waste an opportunity to tell someone you love them.Sodapoppin\\'s discord https://discord.gg/sodapoppin (Do sub not have to be to join)its fine for meEZWanna join my amongus rp server?NODDERS i like blender way moreyou are cute Ecko sodaStandis eft even fun to watch sodaSBPizza from 711, holy shitTuckge gn tomi sodaBOOP oathWinkya its dumbJazzy D:Fake americansSodapoppin\\'s discord https://discord.gg/sodapoppin (Do sub not have to be to join)sodaShy Want to help out Chance and get a badge next to your name? Gift a sub: https://bit.ly/2KPcW7h sodaPog You can now gift anonymously.lol ok, not even 9 pointsnoi cant remember what he did to fuck upit is fine for mewtfEZi swear i gotta say this so much FailFishPispet is too easy muniNotes want someone a lil harder to getthe fuck is an NLF qbsodaL Thank you for resubscribing Port_city_pirate for 20 months meow MYAAA\\x01ACTION Hogings just won 35 xD points! PogChamp\\x01lolhaking shitI only use blender, can\\'t help either FeelsBadMannah gay@TOMIIll i hope it does Smadge[Trivia] In August 2011 this shortstop surpassed Mickey Mantle for most career games played as a YankeeradiantNod yes it was🙊i wish that you\\'ll go to bedGodJazzykat, no I meant plant tutorial not that you are retardedobi won kenobisun vitaminlol she wears the pants huhI hear maya has awful uisodaShy Want to help out Chance and get a badge next to your name? Gift a sub: https://bit.ly/2KPcW7h sodaPog You can now gift anonymously.Play diablo 2 resurrectedSodapoppin\\'s discord https://discord.gg/sodapoppin (Do sub not have to be to join)LOL3rd party OhISeePog banh mi is goodnice ... now i go kitchen and make me fish MEOW 🐟who won pajaGIGA, hugxqcI Mr Rox, do you agree with me that \"ppL\" should be a pp with a heart like xqcL sodaL ?VigSad VigorswidepeepoHappy nicesodaHmm Did you know you get a free subscription when you link your Amazon Prime account with Twitch? You can sub to Chance for free and spam emotes all day! sodaH sodaL - https://gaming.amazon.comensure🍁@guactoast, not until more companies adopt blendervitaminEverytime I see a Lapras I shoot it KKonaWD[Trivia] Many still remember that it was on this December date in 1941 that the U.S. officially entered World War II\\x01ACTION brian6932 won the fight!\\x01slaveryamusescoolSodapoppin\\'s discord https://discord.gg/sodapoppin (Do sub not have to be to join)[Trivia] @alsobuoyant You answered the question correctly and got 10 points. FeelsGoodMan The answer was \" Truth \". [Similarity: 100%]PANIConce i graduate imma delete maya Smadge fuck this dam programWICKED but i obviously live in japanbut idk if they\\'re the right sizeTANTRUMTANTRUMWsodaHmm Did you know you get a free subscription when you link your Amazon Prime account with Twitch? You can sub to Chance for free and spam emotes all day! sodaH sodaL - https://gaming.amazon.comOMEGALUL defeated by a kickI thought I repressed those memories about learning maya sodaSUFFERTRUE peepoPog!fight @BakaBryanBC[Trivia] In 1938 this trio soitenly made the short film \"Healthy, Wealthy and Dumb\"!fight @brian6932!fight @brian6932@evolucian => Command execution failed: An active trivia is currently running in this channel.i cheated forsenCD[Trivia] In 2010,the New York Post reported a bank robber dressed as whom made off with an “Alderaan-sized wad of cash”?yeah they do names sometimes SadgeI\\'m playing RimWorld and Chatting stop[2020-10-08 20:20:49 UTC] hogings: EZ ?or empty fieldYes it does novacht totsPatsodaHmm Did you know you get a free subscription when you link your Amazon Prime account with Twitch? You can sub to Chance for free and spam emotes all day! sodaH sodaL - https://gaming.amazon.comyeah the taquitos, i forgot the namethere\\'s a bbq place around the corner too but i\\'m too fat and lazy to walk there. some thai food. sushi as well. still want 711 MadgesodaL Thank you for resubscribing captaintsubassa for 22 months meow MYAAA@kjones086 what does the porcshe 911 emote look like emiruSUSthen like 2 seconds of action after 2 hoursstreamer abandoned us SadgeMODS ban himstop bapping you perv radiantReeeomega super cute emote OhISeemissed a few[Trivia] The residents of this country noted for its Grand Prix are almost all foreignersmoon is fucking hilarious in EFTHE SHOULD Q INTO FFokayFeelsDankMan ah okPANIC webs[Scramble] No one answered correctly. FeelsBadMan The word was: \" assembly \"TANTRUM  when does chatterino can use 7tvgood content though. at least the vod wasattack[Trivia] @steveshepard You answered the question correctly and got 10 points. FeelsGoodMan The answer was \" American Beauty \". [Similarity: 100%]xqcI there you go Fleymour is a fucking loser44 more kevin CHEERim stuck at making the leaf cards work because he didnt show what the card\\'s material is in the video like i originally asked him 2 weeks ago Smadgeagony?okcock swallowDthat is all :)Wulfy eeya is bullying totsDeadsodaShy Want to help out Chance and get a badge next to your name? Gift a sub: https://bit.ly/2KPcW7h sodaPog You can now gift anonymously.DSodapoppin\\'s discord https://discord.gg/sodapoppin (Do sub not have to be to join)can u dm me on discordask nicely like this dex, docPlsYeah, just buy mcchikcen man, I\\'m worried about youyea aus gets fucked[2021-10-05 12:12:02 UTC] brian6932: FeelsDankMan Anger SUPID BOTStop being sad peepoWTFweebGiggles too tired[2021-09-28 03:50:26 UTC] steveshepard: Make a car jumping a pool of sharks Jazzy WICKEDnow to go sleep cute anime girlkill me instead[Scramble] A scramble game has started.  Unscramble the following word to win: entntocbongoTap be madnosodaH Chance\\'s official merch store: https://www.sodapoppin.shop/ Discount codes: POOR, POOR10, 20, 25, 30, 35, 40 (40 only works on classic tee) | Support: sodapoppin@teespring.compoe sucks[Scramble] A scramble game has started.  Unscramble the following word to win: erotprTRUE[Trivia] On Feb. 23, 1945 6 U.S. servicemen raised the American flag on this island; sounds like a good photo opQt is a GUI library for C++yes pattiiSIT[Trivia] In 1984, the NBA Championship Trophy was renamed to honor what legendary NBA Commissioner?LOLi cant help itdamn this guys a juicer, retard and simp:D!fight @BakaBryanBC[Trivia] Who needs Ryan Seacrest or even Dick Clark?  For years we enjoyed this man & his Royal Canadians on New Year\\'s EveWhat wtf was that questionyeah i call them that thoplay csgo!![Trivia] These monkeys were important \"factors\" in the development of the Salk polio vaccineensureChillyHTX (im joking i will probably find someone who makes me watch anime some day SHRUGGERS )\\x01ACTION The trigger is pulled. A bullet fired. F for Drizin FeelsBadMan\\x01noI\\'ll turn your internet off unless you go and support local Vietnamese businesses!fight  @brian6932i tunnel vision so hard FeelsDankMani have some animated emotes ready i want when i get my slotsGod god, some of you know some weeby shit LULWI want to watch Chance play shitty horror Sadge3nah GabeNnot johnny sins Sadge\\x01ACTION The trigger is pulled. A bullet fired. F for AIterAce FeelsBadMan\\x01TOMIIll when now weird 👉 sodaClown[Trivia] Nicolas Cage plays Cameron Poe, a prisoner with a heart of gold, in this flighty film@warringbulldog, D:vikito2Sit SantaHat TouchGrass SnowTime  helpsodaH Chance\\'s official merch store: https://www.sodapoppin.shop/ Discount codes: POOR, POOR10, 20, 25, 30, 35, 40 (40 only works on classic tee) | Support: sodapoppin@teespring.comty@Chicbreeze sodapoppin has been offline for 1 day, 1 hour and 27 minutesnot even any puke emotes for me to use Sadgewhoever described a bagel like that is weirdi am devastatedWICKED[Trivia] @gtokie You answered the question correctly and got 10 points. FeelsGoodMan The answer was \" Value \". [Similarity: 100%]NA answers SMHyea trueamerican dreamoh sorry\\x01ACTION @BakaBryanBC won the fight!\\x01f@razfinch Avoid mixing Ginger Nuts with other biscuits, they contaminate. Keep separated.Pispet too much of a slut for me radiantSipPANIC CAPS!fight @brian6932YeahOMEGALUL nice cheesePispet u gonna like it considering ur age https://www.twitch.tv/amazonmusic selphyIseeselphyNANI ruude that hurtsyes wrangler sodaSitthroat killer!fight @BakaBryanBCthat doesn\\'t exist anymore TANTRUM[Trivia] People have driven this Water/Ice type Pokémon almost to the point of extinction. In the evenings, this Pokémon is said to sing plaintively as it seeks what few others of its kind still remain. Also Ferries people across water bodies.Smadging 38 THANKS GOOGLE[Scramble] A scramble game has started.  Unscramble the following word to win: operntwEZPANICthank uso tempted to say fuck making this plants MadgeFF happythoSleepy[2021-12-02 08:13:42 UTC] theultracoolcutiebobo: tnk you used to use those emotes you cant judge that much SMHlol@brian6932 oh I just said \"brian\" as an answer, sorry LULW@vissione, yeah some weird ppl called razzy and roxdefinitely live soon COPIUMSodapoppin\\'s discord https://discord.gg/sodapoppin (Do sub not have to be to join)Is anyone else seeing massive emotes in chat?? Wtf is going onxqcI rox im working right now im sorryi got no sleep last night Sadgeim feeling lonely today Sadge i need shitshow saturdayAnime suckstrappuke on the carpetbad moviesYes :)that peepo is uglier than usualis not TANTRUMasodaH Chance\\'s official merch store: https://www.sodapoppin.shop/ Discount codes: POOR, POOR10, 20, 25, 30, 35, 40 (40 only works on classic tee) | Support: sodapoppin@teespring.comI\\'m so white in the winter, then tan like I\\'m Spanish if I step into the Sun. Being like 70 Dutch/Northern European and 30% Spain Spanish is weird LULWultracoolcutiebobo more like ultracoolcutiebobuttEZYeslike a photo or categoryFLlolfriendlyYesseems fine for mewtfsodaH Chance\\'s official merch store: https://www.sodapoppin.shop/ Discount codes: POOR, POOR10, 20, 25, 30, 35, 40 (40 only works on classic tee) | Support: sodapoppin@teespring.combut it\\'s spitting out errors that it can\\'t find /app/main.jsokEZ!fight  @brian6932:)sodaH Chance\\'s official merch store: https://www.sodapoppin.shop/ Discount codes: POOR, POOR10, 20, 25, 30, 35, 40 (40 only works on classic tee) | Support: sodapoppin@teespring.comSadge streamer go live pls, twitch is boring todaysodaShy Want to help out Chance and get a badge next to your name? Gift a sub: https://bit.ly/2KPcW7h sodaPog You can now gift anonymously.TOMIIll when he was cool 👉 MEOWstop doing thisyeah thats trueRImWorld is actaully a great game Pogidk i tried apex and it was a bit too dnakselphyStare I hate it when you do thisme :)My apartment is on top of a vietnamese sub restaurantASadge ok then Sadge at this point Sadge I would take wc3 Sadgewhats a good emote[Trivia] According to legend,the ghosts of Anne Boleyn and Sir Walter Raleigh haunt what London landmark?[Trivia] Dolittle,Strangelove and Zhivago are surnames of classic movie characters who share what distinguished title?valuesodaH Chance\\'s official merch store: https://www.sodapoppin.shop/ Discount codes: POOR, POOR10, 20, 25, 30, 35, 40 (40 only works on classic tee) | Support: sodapoppin@teespring.comi mean u work hard on nicks channel[Scramble] @frogster420 You answered the question correctly and got 10 points. FeelsGoodMan The word was \" attack \"wait that means you probably have some good shit in walking distance no?EZit seems like fun tbhodd@brian6932 is it easy to make ahk do mouse movements just in a circle without clickingSodapoppin\\'s discord https://discord.gg/sodapoppin (Do sub not have to be to join)Agreei wish i was a mod just to have this happen to me!fight fightxD nuthlusbotI was watching the Nicholas Cage trailer. Missed all the trivia FeelsDankManno wrangler02[Trivia] No one answered correctly. FeelsBadMan The answer was: \" Sally Ride \"yeah wowjk rowlingFeelsDankMan it was merged recently, not sure if ppl are refreshed thoi figured it was a wheelchair jokeNO Smadgingno its not femboy fridaystop batchesting mewe are really cool annytfCool[Trivia] @brian6932 hell is close. [Similarity: 67%]nice adin subvIsSx BAPPED be niceyou could trick yourself: put your shoes and jacket on, but dont go anywhere. see if you feel like it afterrooC tannig is for band geekspretty surei just look and am likeNO SUNLIGHT SmadgebatPls is a good emote pepeD[2021-03-30 05:34:55 UTC] moonmoon: hey :)fuck sunlight MadgeyeahsodaH Chance\\'s official merch store: https://www.sodapoppin.shop/ Discount codes: POOR, POOR10, 20, 25, 30, 35, 40 (40 only works on classic tee) | Support: sodapoppin@teespring.comno the other c wordsodaH Chance\\'s official merch store: https://www.sodapoppin.shop/ Discount codes: POOR, POOR10, 20, 25, 30, 35, 40 (40 only works on classic tee) | Support: sodapoppin@teespring.com:)[Trivia] No one answered correctly. FeelsBadMan The answer was: \" Dilbert \"EXPLAINING call me i need to cum i\\'m so horny; choke me, i\\'m so sadsodaH Chance\\'s official merch store: https://www.sodapoppin.shop/ Discount codes: POOR, POOR10, 20, 25, 30, 35, 40 (40 only works on classic tee) | Support: sodapoppin@teespring.comOk driving home brbgn xini moon2CUTE moon2BEDill be working every day up to but not including christmas eveyes radiantSipOk soWutFace there\\'s no saving this one,hugchance hibernating for the winteruse my ass@Fleymour orophia was a victim of recent Twitch crackdown happythoGiggle[2019-06-11 02:40:42 UTC] numbarz: can i get a good night kiss? 💋 AYAYA[Trivia] No one answered correctly. FeelsBadMan The answer was: \" Tyson \"[Scramble] A scramble game has started.  Unscramble the following word to win: nidaethe @ tells you who won LULWwell idk docker FeelsDankMan good luck with that[Trivia] An action that makes a bad situation worse is often described as “rubbing” what “into a wound”?xqcI thank you mr wrangler02hellwrangler no matter what, you\\'re old[Trivia] This \"Iron\" boxer said of an opponent, \"my main objective is to be professional but to kill him\"yes hellojohnny sinsi love among usjust say what you want to say totsSlamalso i live in a food hell hole OkaygeFeelsDankMan wowwtf i live there POGGERSdocker is not really for things you\\'re actively working on LULWval kill? what a namelmaoTANTRUMSodapoppin\\'s discord https://discord.gg/sodapoppin (Do sub not have to be to join)DansGame 7/11 food is aight for the price, but don\\'t bother ordering itsoda stop fappingapeepoGiggle thats just a mad personsodaH Chance\\'s official merch store: https://www.sodapoppin.shop/ Discount codes: POOR, POOR10, 20, 25, 30, 35, 40 (40 only works on classic tee) | Support: sodapoppin@teespring.com[Scramble] A scramble game has started.  Unscramble the following word to win: vteiana[Scramble] A scramble game has started.  Unscramble the following word to win: emesgners[Trivia] A Merry Irishman pairs Kahlua with Tullamore Dew, an Irish type of thisthe teacher said that the thing i needed help with was in a specific time point of a vid but its not Smadgethe problem with eft is the reset2Stop saying donde!fight @NovachtI just lit a Fresh Squeezed Lemonade candle Kreygasm@hogings => Command execution failed: An active trivia is currently running in this channel.makes me feel nothing but bad\\x01ACTION The trigger is pulled. A bullet fired. F for Hogings FeelsBadMan\\x01@Nacchikins, thx TrollDespair[Scramble] A scramble game has started.  Unscramble the following word to win: htotnwresHope it was a nice talk FeelsOkayMan@SteveShepard YESwtf sodaTantrumwrangler02 yes xqcCoNerdge prison electronics have transparent cases so prisoners can\\'t hide contraband in them. they\\'re also a couple of years out of date and a good source of CRT tv\\'s.[Scramble] A scramble game has started.  Unscramble the following word to win: atacktsodaHmm Did you know you get a free subscription when you link your Amazon Prime account with Twitch? You can sub to Chance for free and spam emotes all day! sodaH sodaL - https://gaming.amazon.comoh okinteresting HmmokpeepoSmash online classes suck because teacher cant even help me properlyTANTRUM even fricking empirrre is playing eftyeah thatSodapoppin\\'s discord https://discord.gg/sodapoppin (Do sub not have to be to join)WEEBSDETECTED weebs faultbetting on VODs is a really good way to get unlimited points LULBeautythey should play the new inscryption beta widepeepoConcept@SteveShepard, damn you can be all flavours of chocolate peepoPogI want my Vtuber to vtuber totsSlam[2021-03-05 23:15:25 UTC] hogings: not poor sodaDAB!roll do i call in sick tomorrow (51+)TNK is in a bad mood NOTEDpall of my ideas are goodthat is the best vei emote weebNod[2021-01-27 20:36:44 UTC] hogings: hogingPing yep@brian6932 i mean like the delay where mods can see messages before others[Trivia] The \"Lady\" in this group that won 5 2010 ACM Awards is Hillary Scott, daughter of country singer Linda Davisno uMake sure to follow the stream! :)[2020-12-05 22:02:22 UTC] hogings: !fight myselfLOL[Scramble] A scramble game has started.  Unscramble the following word to win: sylsihtWaifus are worth itO_osodaShy Want to help out Chance and get a badge next to your name? Gift a sub: https://bit.ly/2KPcW7h sodaPog You can now gift anonymously.wrangler02 you should quit and give up life sucks anywaysi always feel like trash annytfCoolgn chat catKISS🍞Make sure to follow the stream! :)sodaH Chance\\'s official merch store: https://www.sodapoppin.shop/ Discount codes: POOR, POOR10, 20, 25, 30, 35, 40 (40 only works on classic tee) | Support: sodapoppin@teespring.comUlysses S Grant\\x01ACTION @brian6932 won the fight!\\x01Fuck man, I wish I had a extra 300k for that car. I pimped out a BRZ for a play car, and I want cars like that NotLikeThis:p[Scramble] A scramble game has started.  Unscramble the following word to win: dofosurely he\\'ll go live before nick and malena\\'s cooking stream COPIUM2liesNo i wouldn\\'t\\x01ACTION xoosd rolls 1337 (1-100)\\x01online school must be so hard[Scramble] A scramble game has started.  Unscramble the following word to win: rrpoeretgoodlmao I\\'ve been watching cat rp vid and forgot to turn off my musicits a good movieThanks for gifting Chicbreeze a sub, ChillyHTX meow MYAAA[Trivia] No one answered correctly. FeelsBadMan The answer was: \" Guy Lombardo \"hCoffeeTime good timewhich is why im so boredWICKEDmy Saturday entertainment still isn\\'t awake PepeHands[Trivia] It\\'s a family of tiny building blocks of matterPANIC shhFUCKsquchaGasm Kiss me mariomaya just feels so technical and boring@nyxious that vei emote is awesome Woahebobo is a cutie[Trivia] Brackets are best described as “square-cornered” versions of what other punctuation marks?\\x01ACTION BakaBryanBC won the fight!\\x01tinyteeth_ this is a weeb offline chat WeebsShoowrong pokiWeirdi would try the hot foods, but id prob just order energy drinks, chips, candy peepoFati only could have 3 layers of chemicals because my skin was starting to lose pigmentationGsteven_senegal_, just spam this in his offline chat till some one gifts you \" can someone gift m e :) \" i do that and it has worked for like 4 months[Trivia] Who was the first pinch hitter to score a home run in World Series play?the war was in the 90s yeah\\x01ACTION @BakaBryanBC won the fight!\\x01Clueless TeaTimeSodapoppin\\'s discord https://discord.gg/sodapoppin (Do sub not have to be to join)truthsodaShy Want to help out Chance and get a badge next to your name? Gift a sub: https://bit.ly/2KPcW7h sodaPog You can now gift anonymously.whisper me ur Discord sodaSit or if you prefer you could just whisper me the files through imgur or smth2Sodapoppin\\'s discord https://discord.gg/sodapoppin (Do sub not have to be to join)@UltraSynapticSeizureNinja At least you\\'re not eating 711 hotdogs like this guy @kjones086Bagels aren\\'t hard??? WutFace@brian6932 happythoShrug i dont feel like using 7tv, its petty but happythoShrug[Scramble] A scramble game has started.  Unscramble the following word to win: eitsntg!fight brian6932@TOMIIll doom[Trivia] In a landmark congressional hearing, “Have you no sense of decency sir?” was asked of whom?did chat delay get removed, it used to be like 3 seconds before your messages got sentJazzy don\\'t make the plants D:[Scramble] A scramble game has started.  Unscramble the following word to win: nerseus😖sodaHmm Did you know you get a free subscription when you link your Amazon Prime account with Twitch? You can sub to Chance for free and spam emotes all day! sodaH sodaL - https://gaming.amazon.comwrangler02 DankStick yeah that[Scramble] A scramble game has started.  Unscramble the following word to win: yrpaidldie weebs dieSodapoppin\\'s discord https://discord.gg/sodapoppin (Do sub not have to be to join)xqcI thats all for me on this special report from me peepoHappyCowboy2D is better AYAYAWeird[Scramble] A scramble game has started.  Unscramble the following word to win: nmggiaeat the shitYESfake actorsodaH Chance\\'s official merch store: https://www.sodapoppin.shop/ Discount codes: POOR, POOR10, 20, 25, 30, 35, 40 (40 only works on classic tee) | Support: sodapoppin@teespring.compattiiCRY fine, more walkiesWICKED nice jazzy\\x01ACTION Hogings just won 46 xD points! PogChamp\\x01Sodapoppin\\'s discord https://discord.gg/sodapoppin (Do sub not have to be to join)sodaHmm Did you know you get a free subscription when you link your Amazon Prime account with Twitch? You can sub to Chance for free and spam emotes all day! sodaH sodaL - https://gaming.amazon.com[Trivia] @steveshepard You answered the question correctly and got 10 points. FeelsGoodMan The answer was \" Thieves \". [Similarity: 100%][2016-02-06 21:22:53 UTC] simpsorma: @steakdude32121, Wanna fuck[Trivia] Once ranked #1 for a record 237 weeks,tennis great Roger Federer hails from what country?711 hot foods are not great LULWi would rather play truck sim Smadgelikeeveryone is playing eftHAPPY I just bought something from soda-s merch store!roll dick sizelmao I thought the same thing @GTokie sodaOmegamost of these are jeopardy questions so there\\'s context missingThere is no respect. Only hot dogs.xqcI LETS ASK THE OFFLINE CHAT🐱tnk don\\'t he been rude to me nyAngyTOMIIII csgo isnt too bad veiShy I only play a few games anywayYes i will@orophia,  ur back ? heart u were bannedi love that one!discordok triviaEZ@crashfort, just enable it TANTRUM@capedsquirrel => Command execution failed: Failed to retrieve a question.since idk what the fuck im doing and not using cards is gonna be a fuck ton of polygons Madge fuck plants for nowsodaHmm Did you know you get a free subscription when you link your Amazon Prime account with Twitch? You can sub to Chance for free and spam emotes all day! sodaH sodaL - https://gaming.amazon.comlol I had a synonymsodaHmm Did you know you get a free subscription when you link your Amazon Prime account with Twitch? You can sub to Chance for free and spam emotes all day! sodaH sodaL - https://gaming.amazon.com[Scramble] A scramble game has started.  Unscramble the following word to win: npoiotRolling Stones sucksNOTED you can remove your tan with chemical peeling, niceyes it isYo soda wtf peepoWTF use your headOMEGALUL wtf was that trailersunny dMake sure to follow the stream! :)stop eeping radiantReeeModge doing the dirty work for free1graveyardsodaH Chance\\'s official merch store: https://www.sodapoppin.shop/ Discount codes: POOR, POOR10, 20, 25, 30, 35, 40 (40 only works on classic tee) | Support: sodapoppin@teespring.com@kjones086 Super power LULWbro idk what the card technique is sodaSUFFERsodaHmm Did you know you get a free subscription when you link your Amazon Prime account with Twitch? You can sub to Chance for free and spam emotes all day! sodaH sodaL - https://gaming.amazon.comL[Trivia] No one answered correctly. FeelsBadMan The answer was: \" whiskey \"[Trivia] At its brightest it can be seen in daylightxqcI i hope to see all of you tomorrow, gnif i speak im in big troubleno (:[2020-11-16 21:38:30 UTC] hogings: i miss nixiyou cant sub for 1y but you can gift for 1yDESKCHAN i was unsure so i didn\\'t sendOk Mrs. eeya happythoNodbwhere is chance https://betterttv.com/emotes/5e19409f8af14b5f1b437c17Vflippiect eynahl plays f fidk im watching a video about sleepMAnd wrangler is playing softcore diablo 2 resurrectedNo[2021-04-17 00:48:31 UTC] hogings: panda i had cock again peepoPogVigSad Vigorsdrop the delanore?pajaGIGA Qt creator update@Nacchikins, nah it\\'s all good peepoGiggleSodapoppin\\'s discord https://discord.gg/sodapoppin (Do sub not have to be to join)no  im changing my corridor layoutSodapoppin\\'s discord https://discord.gg/sodapoppin (Do sub not have to be to join)weird question[Trivia] This movie star reminded the World War II troops what they were fighting forDEEZ NUTSTyler1 is kinda cool though SadgeSodapoppin\\'s discord https://discord.gg/sodapoppin (Do sub not have to be to join)EXPLAINING call me i need to cum i\\'m so horny; choke me, i\\'m so sadxqcI razzy anything you want to tell Fleymour ?so like 3am? Fuck that[Trivia] No one answered correctly. FeelsBadMan The answer was: \" Merck \"\\x01ACTION @BakaBryanBC won the fight!\\x01lmaothe slow suffering begins sodaSUFFER[Trivia] My PlayStation 3 lets me enjoy important historical movies in this \"colorful\" formatyeah anger makes mei\\'m too lazy to walk outsidesodaH Chance\\'s official merch store: https://www.sodapoppin.shop/ Discount codes: POOR, POOR10, 20, 25, 30, 35, 40 (40 only works on classic tee) | Support: sodapoppin@teespring.comI don\\'t want to touch grass it\\'s cold outsidebagels are soft, like bian.dont get offended peepoGigglewtfenvironmental design aka making a whole ass scene in unreal and 3D modeling all of the assetspeepoClap gjgood luck jazzy[Trivia] After witnessing the death of her double, a hustler is drawn into a clone-spiracy on this dramano more walkies veiSmugD:in agony scuffedCrypoori think their best stuff are the tornados or hot dogsY > I@atomg0at, Sodapoppin\\'s discord https://discord.gg/sodapoppin (Do sub not have to be to join)yeah fair enoughweirdojust play csgo sodaSmirkI still see the username I typed in like a min agoEZ[Trivia] When was the first New Year\\'s Eve ball drop in Times Square?I dated a girl with a birthday then lol@TepidP EXPLAINING call me i need to cum i\\'m so horny; choke me, i\\'m so sad@Krayevsky7 sodapoppin has been offline for 1 day and 59 minutesSteveShepard, true otherwise that would be rather crazyoh it\\'s great isn\\'t itnoit was 30 day ban by twitch but i appealed it and they said it was a mistake on their end[Scramble] A scramble game has started.  Unscramble the following word to win: mlssybea?Sodapoppin\\'s discord https://discord.gg/sodapoppin (Do sub not have to be to join)dude looks like he hasn\\'t aged since national treasurethere was no way anyone was gonna get it LULWnyanPls i hate cutiesLSMHFeelsDankMan it\\'s not like you\\'ve done much with itidkJgreat questionSodapoppin\\'s discord https://discord.gg/sodapoppin (Do sub not have to be to join)wrangler BOP ANGRYisn\\'t that no longer a countrydiscount code poorLOLattackits like watching people play dayzyes I googled that LULWi miss my poki submodCheck cuties?[Trivia] In one legend, Juno condemned this nymph, saying, \"You shall still have the last word, but no power to speak first\"oh okxqcI pls cry on the micthat is a waste of timefuckGod im so dumb[Trivia] According to a common idiom, extremely close friends are said to be “as thick as” what?I think the last movie of his I watched was Mandy, which was a good oneVigSad VigorsEts = escape the semen!fight @brian6932ya hes been afk for a full ass daytrue FleymourdamnHStupid bot MEOWplay farming sim sodaNODDERS!fight  @BakaBryanBCYo guys have a good day FeelsOkayMan 👋 Latersix horror games peepoScaredidk what that dick\\'s name wasok dude who asked@Jazzykat sodapoppin has been offline for 1 day, 14 hours and 12 minutes[Trivia] Maker of racing saddles for these, like the Diplodocus & the Iguanandonyeah  wowxqcI ok mr bobo will dotwitch is oddi want tarkov stream NAOW peepoPISSEDDo you see why I hate trivia bots now? PepeLaugh TeaTimeTRUE[Scramble] A scramble game has started.  Unscramble the following word to win: dlyabut mehWeirdChamp copy pasta okno bulpes u just slow@Vikitorusss, pokiCheer CHEER xqcCheerMake sure to follow the stream! :)\\x01ACTION The trigger is pulled. A bullet fired. F for Hogings FeelsBadMan\\x01would you play csgo?[Trivia] A prison in Florence, Colorado holds this man known as the Unabomber@theyungyee sodapoppin has been offline for 23 hours and 15 minutesthey spelled civilians wrongi did and that doesnt helpyes you are pattiiSMUGSadge shitty horror streamshopefully he gets ontoo badMake sure to follow the stream! :)missed the ice cream truck, this is my biggest L yetthat has consistently gotten good reviews@hamnp Wrong name LULWmy comet SadWeeb she shines so brightguys whats the best way to reheat wingsNo it is notna questions smh\\x01ACTION The trigger is pulled. A bullet fired. F for Hogings FeelsBadMan\\x01Make sure to follow the stream! :)Ok guys the new Spider-Man was pretty PogOyeah its fine for me@eynahl When hugging, hug with both arms and apply reasonable, affectionate pressure.sodaH Chance\\'s official merch store: https://www.sodapoppin.shop/ Discount codes: POOR, POOR10, 20, 25, 30, 35, 40 (40 only works on classic tee) | Support: sodapoppin@teespring.comI answeer before I read them sometimes and it makes it harder lol!fight  @brian6932You gonna play ets2 insteadwell if its the cheapest by a LOT, then yea just order some :)the love of your lifeoh lolsodaH Chance\\'s official merch store: https://www.sodapoppin.shop/ Discount codes: POOR, POOR10, 20, 25, 30, 35, 40 (40 only works on classic tee) | Support: sodapoppin@teespring.comsunshine vitamintry anything once, twice if you like it ;)!fight @BakaBryanBCqt creator sounds familiarwtfsodaH Chance\\'s official merch store: https://www.sodapoppin.shop/ Discount codes: POOR, POOR10, 20, 25, 30, 35, 40 (40 only works on classic tee) | Support: sodapoppin@teespring.comcNOOOO my tan even tho lockdown didnt help mehappy late birdthayDoes anyone know when chance is going to be on today?peepoTalk Command execution failed: An active trivia is currently running in this channel.brian I\\'ve seen a better combination but i cant think of a better way to align the emotes annytfDankno ideaHe had a lot debt, no?if they carry pastries like banh pate so that shit is also delicious@rawheyd, sodaH Chance\\'s official merch store: https://www.sodapoppin.shop/ Discount codes: POOR, POOR10, 20, 25, 30, 35, 40 (40 only works on classic tee) | Support: sodapoppin@teespring.comthieves[Trivia] According to forklore, what legendary creature creates no reflection in a mirror?Wulfer vIsSx wants a kiss from you squchaSip[Trivia] Because ultra-violet rays prompt the body to produce it, Vitamin D is often referred to by what nickname?\\x01ACTION TendranSK just won 79 xD points! PogChamp\\x013[Trivia] This sports drink\\'s new \"Frost\" flavors are Whitewater Splash, Glacier Freeze, and Alpine Snowdo you set an alarm?[2021-10-20 04:47:49 UTC] wrangler02: mods in rimworld is like personalizing your carsodaH Chance\\'s official merch store: https://www.sodapoppin.shop/ Discount codes: POOR, POOR10, 20, 25, 30, 35, 40 (40 only works on classic tee) | Support: sodapoppin@teespring.comwhy am i being attacked totsDeadsodaH Chance\\'s official merch store: https://www.sodapoppin.shop/ Discount codes: POOR, POOR10, 20, 25, 30, 35, 40 (40 only works on classic tee) | Support: sodapoppin@teespring.comgoodits like the only thing i dont undertstand in this class@nacchikins => Command execution failed: Failed to retrieve a question.[Trivia] No one answered correctly. FeelsBadMan The answer was: \" Help \"@crashfort, FeelsDankMan you\\'re missing out on a lot if you use this channelnoBPANICpeepoS mama mia kevins been just fuckin licking feet for 3 months straightKKona support nam?!roll 43 to finally be happyh[Trivia] @nacchikins american dream is close. [Similarity: 64%]no Homework and no sleep? MadgeOk gonna shower I love you all equally qxcL[Trivia] No one answered correctly. FeelsBadMan The answer was: \" Cathy \"@Xinitoro, gn xinii catKISS@vissione sodapoppin has been offline for 1 day, 13 hours and 7 minutesI gotta trick a person to gifting me a xqc sub so I can emote Sadge, I already spend too much on subs xqcLTANTRUMcute emote weebNod[Trivia] Ending the long autocratic rule of his predecessor, Vojislav Kostunica won this country\\'s presidency in 2000shiti watched like half of itxqcI wrangler02 we didnt asked hahaKoroneWakeUp no sleepingTeaTime Clueless[Trivia] Kristin Kreuk plays Lana Lang, the untouchable girl next door, on this WB series[2021-01-06 16:38:29 UTC] vashiiq: wtf kinda water is thatCluelessa better verision FeelsDankManMake sure to follow the stream! :)@Hogings, Hogings created their account 9 years, 5 months, 13 days and 8 hours ago.yea wowTHIS is a good emote NODDERSthats what makes it goodno frick you radiantSip[Scramble] A scramble game has started.  Unscramble the following word to win: revaerltTOMIIll not at this point in time nobanned by who and why ?Chance get out of your bath and stream peepoSadNAH NAH[Trivia] Lions don\\'t like to attack ostriches because the big birds do this & can even kill the king of beasts this wayAmerican BeautyEZ just too goodya steve that can happen with native chat sometimes. when it happens when chance is online it\\'s a disasterSodapoppin\\'s discord https://discord.gg/sodapoppin (Do sub not have to be to join)im not cool? catCryi still think ats is better[Trivia] @nacchikins sun vitamin is close. [Similarity: 70%]nono everyone says vitamin d LULW@brian6932 sodapoppin has been offline for 1 day, 3 hours and 55 minutesDrago is a furry SMHVigSad VigorsWhy is she ignoring me koroneWhyL[Scramble] A scramble game has started.  Unscramble the following word to win: teielshit show sat boys?[Trivia] Which actor plays Elliot Alderson\\'s father in Mr. Robot?@UltraSynapticSeizureNinja, Better not tell you now. :)oh i mustve missed that then, last i heard it was nick that had filled the garage happythoShrug\\x01ACTION wrangler02 won the fight!\\x01ya im zoomer as wellDinkDonk streamer plsi always confuse monaco and moroccono gooogle NOPERSHe\\'ll be poor soon enough FeelsOkayMansodaH Chance\\'s official merch store: https://www.sodapoppin.shop/ Discount codes: POOR, POOR10, 20, 25, 30, 35, 40 (40 only works on classic tee) | Support: sodapoppin@teespring.comyou really don\\'t have like a pizza chain franchise around? Hmmwaiting for novacht to get good at apex FeelsLateMan@capedsquirrel => Command execution failed: An active trivia is currently running in this channel.it\\'s the most wonderful time of the year[Trivia] This Scott Adams title guy with a gravity-defying tie accidentally invented a death ray that interested North Korea'"
      ]
     },
     "execution_count": 47,
     "metadata": {},
     "output_type": "execute_result"
    }
   ],
   "source": [
    "full_str"
   ]
  },
  {
   "cell_type": "code",
   "execution_count": 48,
   "id": "517c9805",
   "metadata": {},
   "outputs": [],
   "source": [
    "import stylecloud\n",
    "from wordcloud import STOPWORDS\n",
    "\n",
    "#stylecloud.gen_stylecloud(file_path=\"Output.txt\", palette=\"cmocean.sequential.Matter_16\", \n",
    "#                          background_color=\"white\", icon_name= 'fas fa-tint',\n",
    "#                          colors=['#3A7FC4', '#3A7FC4', '#3A7FC4'], stopwords=STOPWORDS,\n",
    "#                           collocations=False)"
   ]
  },
  {
   "cell_type": "code",
   "execution_count": null,
   "id": "f8a08bd8",
   "metadata": {},
   "outputs": [],
   "source": []
  }
 ],
 "metadata": {
  "kernelspec": {
   "display_name": "Python 3",
   "language": "python",
   "name": "python3"
  },
  "language_info": {
   "codemirror_mode": {
    "name": "ipython",
    "version": 3
   },
   "file_extension": ".py",
   "mimetype": "text/x-python",
   "name": "python",
   "nbconvert_exporter": "python",
   "pygments_lexer": "ipython3",
   "version": "3.8.8"
  }
 },
 "nbformat": 4,
 "nbformat_minor": 5
}
