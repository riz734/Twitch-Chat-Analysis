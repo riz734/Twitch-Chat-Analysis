{
 "cells": [
  {
   "cell_type": "markdown",
   "id": "ac8b9386",
   "metadata": {},
   "source": [
    "https://towardsdatascience.com/avatar-meets-data-visualization-60631f86ba7d"
   ]
  },
  {
   "cell_type": "code",
   "execution_count": 65,
   "id": "7b13892c",
   "metadata": {},
   "outputs": [],
   "source": [
    "import pandas as pd\n",
    "import numpy as np\n",
    "import seaborn as sns\n",
    "import nltk\n",
    "from nltk.sentiment.vader import SentimentIntensityAnalyzer\n",
    "from datetime import datetime\n",
    "import matplotlib.pyplot as plt"
   ]
  },
  {
   "cell_type": "code",
   "execution_count": 31,
   "id": "3bc3aa2c",
   "metadata": {},
   "outputs": [],
   "source": [
    "#loads both sodapoppin and xqcow chat datasets and combines them\n",
    "def load_data():\n",
    "    sodapoppin = pd.read_csv(\"sodapoppin.csv\")\n",
    "    sodapoppin[\"Streamer\"] = \"sodapoppin\"\n",
    "    \n",
    "    xqcow = pd.read_csv(\"xqcow.csv\")\n",
    "    xqcow[\"Streamer\"] = \"xqcow\"\n",
    "    \n",
    "    merged_chats = pd.concat([sodapoppin,xqcow])\n",
    "    \n",
    "    return merged_chats"
   ]
  },
  {
   "cell_type": "code",
   "execution_count": 32,
   "id": "e225435a",
   "metadata": {},
   "outputs": [
    {
     "data": {
      "text/html": [
       "<div>\n",
       "<style scoped>\n",
       "    .dataframe tbody tr th:only-of-type {\n",
       "        vertical-align: middle;\n",
       "    }\n",
       "\n",
       "    .dataframe tbody tr th {\n",
       "        vertical-align: top;\n",
       "    }\n",
       "\n",
       "    .dataframe thead th {\n",
       "        text-align: right;\n",
       "    }\n",
       "</style>\n",
       "<table border=\"1\" class=\"dataframe\">\n",
       "  <thead>\n",
       "    <tr style=\"text-align: right;\">\n",
       "      <th></th>\n",
       "      <th>Message_Datetime</th>\n",
       "      <th>Name</th>\n",
       "      <th>Moderator</th>\n",
       "      <th>VIP</th>\n",
       "      <th>Subscriber</th>\n",
       "      <th>Is_First_Message</th>\n",
       "      <th>Message_len</th>\n",
       "      <th>qtd_msgs_15_secs</th>\n",
       "      <th>Message</th>\n",
       "      <th>Banned</th>\n",
       "      <th>Streamer</th>\n",
       "    </tr>\n",
       "  </thead>\n",
       "  <tbody>\n",
       "    <tr>\n",
       "      <th>0</th>\n",
       "      <td>44548.058067</td>\n",
       "      <td>Mhepps</td>\n",
       "      <td>0</td>\n",
       "      <td>0</td>\n",
       "      <td>0</td>\n",
       "      <td>0</td>\n",
       "      <td>42</td>\n",
       "      <td>1</td>\n",
       "      <td>i just woke up, where is mr strimmer Madge</td>\n",
       "      <td>0</td>\n",
       "      <td>sodapoppin</td>\n",
       "    </tr>\n",
       "    <tr>\n",
       "      <th>1</th>\n",
       "      <td>44548.058148</td>\n",
       "      <td>Pispet</td>\n",
       "      <td>0</td>\n",
       "      <td>0</td>\n",
       "      <td>1</td>\n",
       "      <td>0</td>\n",
       "      <td>53</td>\n",
       "      <td>1</td>\n",
       "      <td>maarionete the weebs are being horni again Cal...</td>\n",
       "      <td>0</td>\n",
       "      <td>sodapoppin</td>\n",
       "    </tr>\n",
       "    <tr>\n",
       "      <th>2</th>\n",
       "      <td>44548.058218</td>\n",
       "      <td>Maarionete</td>\n",
       "      <td>0</td>\n",
       "      <td>0</td>\n",
       "      <td>0</td>\n",
       "      <td>0</td>\n",
       "      <td>10</td>\n",
       "      <td>1</td>\n",
       "      <td>PANIC webs</td>\n",
       "      <td>0</td>\n",
       "      <td>sodapoppin</td>\n",
       "    </tr>\n",
       "    <tr>\n",
       "      <th>3</th>\n",
       "      <td>44548.058322</td>\n",
       "      <td>justTNK</td>\n",
       "      <td>0</td>\n",
       "      <td>0</td>\n",
       "      <td>1</td>\n",
       "      <td>0</td>\n",
       "      <td>24</td>\n",
       "      <td>1</td>\n",
       "      <td>squchaGasm Kiss me mario</td>\n",
       "      <td>0</td>\n",
       "      <td>sodapoppin</td>\n",
       "    </tr>\n",
       "    <tr>\n",
       "      <th>4</th>\n",
       "      <td>44548.058391</td>\n",
       "      <td>Maarionete</td>\n",
       "      <td>0</td>\n",
       "      <td>0</td>\n",
       "      <td>0</td>\n",
       "      <td>0</td>\n",
       "      <td>11</td>\n",
       "      <td>2</td>\n",
       "      <td>vulpes3Kiss</td>\n",
       "      <td>0</td>\n",
       "      <td>sodapoppin</td>\n",
       "    </tr>\n",
       "  </tbody>\n",
       "</table>\n",
       "</div>"
      ],
      "text/plain": [
       "  Message_Datetime        Name  Moderator  VIP  Subscriber  Is_First_Message  \\\n",
       "0     44548.058067      Mhepps          0    0           0                 0   \n",
       "1     44548.058148      Pispet          0    0           1                 0   \n",
       "2     44548.058218  Maarionete          0    0           0                 0   \n",
       "3     44548.058322     justTNK          0    0           1                 0   \n",
       "4     44548.058391  Maarionete          0    0           0                 0   \n",
       "\n",
       "   Message_len  qtd_msgs_15_secs  \\\n",
       "0           42                 1   \n",
       "1           53                 1   \n",
       "2           10                 1   \n",
       "3           24                 1   \n",
       "4           11                 2   \n",
       "\n",
       "                                             Message  Banned    Streamer  \n",
       "0         i just woke up, where is mr strimmer Madge       0  sodapoppin  \n",
       "1  maarionete the weebs are being horni again Cal...       0  sodapoppin  \n",
       "2                                         PANIC webs       0  sodapoppin  \n",
       "3                           squchaGasm Kiss me mario       0  sodapoppin  \n",
       "4                                        vulpes3Kiss       0  sodapoppin  "
      ]
     },
     "execution_count": 32,
     "metadata": {},
     "output_type": "execute_result"
    }
   ],
   "source": [
    "load_data().head()"
   ]
  },
  {
   "cell_type": "code",
   "execution_count": 85,
   "id": "ce08577f",
   "metadata": {},
   "outputs": [],
   "source": [
    "# calculating and adding sentiment score to dataframe\n",
    "def sentiment_scores(df):\n",
    "    \n",
    "    merged_chats= df.astype({'Message': 'str'})\n",
    "    senti_lyze = SentimentIntensityAnalyzer()\n",
    "    merged_chats.reset_index(inplace=True, drop=True)\n",
    "    merged_chats[['neg', 'neu', 'pos', 'compound']] = merged_chats['Message'].apply(senti_lyze.polarity_scores).apply(pd.Series)\n",
    "    \n",
    "    return merged_chats"
   ]
  },
  {
   "cell_type": "code",
   "execution_count": null,
   "id": "71115521",
   "metadata": {},
   "outputs": [],
   "source": [
    "start_time = datetime.now()\n",
    "chat_df = sentiment_scores(load_data())\n",
    "end_time = datetime.now()\n",
    "print('Duration: {}'.format(end_time - start_time))\n",
    "print(\"Finished adding sentiment scores\")"
   ]
  },
  {
   "cell_type": "code",
   "execution_count": 36,
   "id": "e38e9c33",
   "metadata": {},
   "outputs": [
    {
     "data": {
      "text/html": [
       "<div>\n",
       "<style scoped>\n",
       "    .dataframe tbody tr th:only-of-type {\n",
       "        vertical-align: middle;\n",
       "    }\n",
       "\n",
       "    .dataframe tbody tr th {\n",
       "        vertical-align: top;\n",
       "    }\n",
       "\n",
       "    .dataframe thead th {\n",
       "        text-align: right;\n",
       "    }\n",
       "</style>\n",
       "<table border=\"1\" class=\"dataframe\">\n",
       "  <thead>\n",
       "    <tr style=\"text-align: right;\">\n",
       "      <th></th>\n",
       "      <th>Message_Datetime</th>\n",
       "      <th>Name</th>\n",
       "      <th>Moderator</th>\n",
       "      <th>VIP</th>\n",
       "      <th>Subscriber</th>\n",
       "      <th>Is_First_Message</th>\n",
       "      <th>Message_len</th>\n",
       "      <th>qtd_msgs_15_secs</th>\n",
       "      <th>Message</th>\n",
       "      <th>Banned</th>\n",
       "      <th>Streamer</th>\n",
       "      <th>neg</th>\n",
       "      <th>neu</th>\n",
       "      <th>pos</th>\n",
       "      <th>compound</th>\n",
       "    </tr>\n",
       "  </thead>\n",
       "  <tbody>\n",
       "    <tr>\n",
       "      <th>0</th>\n",
       "      <td>44548.058067</td>\n",
       "      <td>Mhepps</td>\n",
       "      <td>0</td>\n",
       "      <td>0</td>\n",
       "      <td>0</td>\n",
       "      <td>0</td>\n",
       "      <td>42</td>\n",
       "      <td>1</td>\n",
       "      <td>i just woke up, where is mr strimmer Madge</td>\n",
       "      <td>0</td>\n",
       "      <td>sodapoppin</td>\n",
       "      <td>0.000</td>\n",
       "      <td>1.000</td>\n",
       "      <td>0.000</td>\n",
       "      <td>0.0000</td>\n",
       "    </tr>\n",
       "    <tr>\n",
       "      <th>1</th>\n",
       "      <td>44548.058148</td>\n",
       "      <td>Pispet</td>\n",
       "      <td>0</td>\n",
       "      <td>0</td>\n",
       "      <td>1</td>\n",
       "      <td>0</td>\n",
       "      <td>53</td>\n",
       "      <td>1</td>\n",
       "      <td>maarionete the weebs are being horni again Cal...</td>\n",
       "      <td>0</td>\n",
       "      <td>sodapoppin</td>\n",
       "      <td>0.000</td>\n",
       "      <td>1.000</td>\n",
       "      <td>0.000</td>\n",
       "      <td>0.0000</td>\n",
       "    </tr>\n",
       "    <tr>\n",
       "      <th>2</th>\n",
       "      <td>44548.058218</td>\n",
       "      <td>Maarionete</td>\n",
       "      <td>0</td>\n",
       "      <td>0</td>\n",
       "      <td>0</td>\n",
       "      <td>0</td>\n",
       "      <td>10</td>\n",
       "      <td>1</td>\n",
       "      <td>PANIC webs</td>\n",
       "      <td>0</td>\n",
       "      <td>sodapoppin</td>\n",
       "      <td>0.801</td>\n",
       "      <td>0.199</td>\n",
       "      <td>0.000</td>\n",
       "      <td>-0.6166</td>\n",
       "    </tr>\n",
       "    <tr>\n",
       "      <th>3</th>\n",
       "      <td>44548.058322</td>\n",
       "      <td>justTNK</td>\n",
       "      <td>0</td>\n",
       "      <td>0</td>\n",
       "      <td>1</td>\n",
       "      <td>0</td>\n",
       "      <td>24</td>\n",
       "      <td>1</td>\n",
       "      <td>squchaGasm Kiss me mario</td>\n",
       "      <td>0</td>\n",
       "      <td>sodapoppin</td>\n",
       "      <td>0.000</td>\n",
       "      <td>0.517</td>\n",
       "      <td>0.483</td>\n",
       "      <td>0.4215</td>\n",
       "    </tr>\n",
       "    <tr>\n",
       "      <th>4</th>\n",
       "      <td>44548.058391</td>\n",
       "      <td>Maarionete</td>\n",
       "      <td>0</td>\n",
       "      <td>0</td>\n",
       "      <td>0</td>\n",
       "      <td>0</td>\n",
       "      <td>11</td>\n",
       "      <td>2</td>\n",
       "      <td>vulpes3Kiss</td>\n",
       "      <td>0</td>\n",
       "      <td>sodapoppin</td>\n",
       "      <td>0.000</td>\n",
       "      <td>1.000</td>\n",
       "      <td>0.000</td>\n",
       "      <td>0.0000</td>\n",
       "    </tr>\n",
       "  </tbody>\n",
       "</table>\n",
       "</div>"
      ],
      "text/plain": [
       "  Message_Datetime        Name  Moderator  VIP  Subscriber  Is_First_Message  \\\n",
       "0     44548.058067      Mhepps          0    0           0                 0   \n",
       "1     44548.058148      Pispet          0    0           1                 0   \n",
       "2     44548.058218  Maarionete          0    0           0                 0   \n",
       "3     44548.058322     justTNK          0    0           1                 0   \n",
       "4     44548.058391  Maarionete          0    0           0                 0   \n",
       "\n",
       "   Message_len  qtd_msgs_15_secs  \\\n",
       "0           42                 1   \n",
       "1           53                 1   \n",
       "2           10                 1   \n",
       "3           24                 1   \n",
       "4           11                 2   \n",
       "\n",
       "                                             Message  Banned    Streamer  \\\n",
       "0         i just woke up, where is mr strimmer Madge       0  sodapoppin   \n",
       "1  maarionete the weebs are being horni again Cal...       0  sodapoppin   \n",
       "2                                         PANIC webs       0  sodapoppin   \n",
       "3                           squchaGasm Kiss me mario       0  sodapoppin   \n",
       "4                                        vulpes3Kiss       0  sodapoppin   \n",
       "\n",
       "     neg    neu    pos  compound  \n",
       "0  0.000  1.000  0.000    0.0000  \n",
       "1  0.000  1.000  0.000    0.0000  \n",
       "2  0.801  0.199  0.000   -0.6166  \n",
       "3  0.000  0.517  0.483    0.4215  \n",
       "4  0.000  1.000  0.000    0.0000  "
      ]
     },
     "execution_count": 36,
     "metadata": {},
     "output_type": "execute_result"
    }
   ],
   "source": [
    "chat_df.head()"
   ]
  },
  {
   "cell_type": "code",
   "execution_count": 105,
   "id": "e98f4949",
   "metadata": {},
   "outputs": [],
   "source": [
    "#Gets a sample of the dataframe, sample of both streamers\n",
    "#Example: passing sample_size=100 will return df with 100 rows of sodapoppin and 100 xqcow data points (200 total)\n",
    "def get_sample(df,sample_size):\n",
    "        \n",
    "    #drops all rows where neutral is 1 to remove some of the noise\n",
    "    df = df[df[\"neu\"]!=1]\n",
    "    \n",
    "    soda_df = df[df[\"Streamer\"]==\"sodapoppin\"]\n",
    "    xqcow_df = df[df[\"Streamer\"]==\"xqcow\"]\n",
    "    \n",
    "    #gets a random sample of the dataframe based on passed n from both streamers chats\n",
    "    \n",
    "    soda_df = df[df[\"Streamer\"]==\"sodapoppin\"]\n",
    "    xqcow_df = df[df[\"Streamer\"]==\"xqcow\"]\n",
    "    \n",
    "    soda_df_sample = soda_df[:sample_size]\n",
    "    soda_df_sample = soda_df_sample.sample(n=sample_size, random_state=1)\n",
    "    \n",
    "    xqcow_df_sample = xqcow_df[:sample_size]\n",
    "    xqcow_df_sample = xqcow_df_sample.sample(n=sample_size, random_state=1)\n",
    "    \n",
    "    merged_samples = pd.concat([xqcow_df_sample,soda_df_sample])\n",
    "    \n",
    "    return merged_samples "
   ]
  },
  {
   "cell_type": "code",
   "execution_count": 106,
   "id": "9381ff6a",
   "metadata": {},
   "outputs": [],
   "source": [
    "def sentiment_dist(df):\n",
    "    import seaborn as sns\n",
    "    import matplotlib.pyplot as plt\n",
    "    \n",
    "    #create array for x axis\n",
    "    n = len(df['pos'])\n",
    "    X = np.arange(n)\n",
    "\n",
    "    #bar plot\n",
    "    fig = plt.figure()\n",
    "    plt.barh(X, df['pos'])\n",
    "    plt.barh(X, -df['neg'])\n",
    "    \n",
    "    #plt.rcParams.update({'font.size':13})\n",
    "    #plt.xlim([-.16,.22])\n",
    "    #plt.yticks(ticks=X, labels=df['Streamer'], rotation='0')\n",
    "    \n",
    "    plt.xlabel('Sentiment Score')\n",
    "    plt.ylabel('Sample_n')\n",
    "    plt.title(\"Distribution of Sentiment Scores\")"
   ]
  },
  {
   "cell_type": "code",
   "execution_count": 107,
   "id": "a01d0e49",
   "metadata": {},
   "outputs": [],
   "source": [
    "sample = get_sample(chat_df,1000)"
   ]
  },
  {
   "cell_type": "code",
   "execution_count": 108,
   "id": "1f896fb3",
   "metadata": {},
   "outputs": [
    {
     "data": {
      "image/png": "[encoded data removed]",
      "text/plain": [
       "<Figure size 432x288 with 1 Axes>"
      ]
     },
     "metadata": {
      "needs_background": "light"
     },
     "output_type": "display_data"
    }
   ],
   "source": [
    "sentiment_dist(sample)"
   ]
  },
  {
   "cell_type": "code",
   "execution_count": 116,
   "id": "e9817ccc",
   "metadata": {},
   "outputs": [
    {
     "data": {
      "text/plain": [
       "<seaborn.axisgrid.FacetGrid at 0x1688439bee0>"
      ]
     },
     "execution_count": 116,
     "metadata": {},
     "output_type": "execute_result"
    },
    {
     "data": {
      "image/png": "[encoded data removed]",
      "text/plain": [
       "<Figure size 482.425x360 with 1 Axes>"
      ]
     },
     "metadata": {
      "needs_background": "light"
     },
     "output_type": "display_data"
    }
   ],
   "source": [
    "sns.displot(sample, y=\"compound\", x=\"Streamer\",hue=\"Streamer\")"
   ]
  },
  {
   "cell_type": "code",
   "execution_count": 120,
   "id": "1548df22",
   "metadata": {},
   "outputs": [
    {
     "data": {
      "text/plain": [
       "<seaborn.axisgrid.FacetGrid at 0x168c190ba30>"
      ]
     },
     "execution_count": 120,
     "metadata": {},
     "output_type": "execute_result"
    },
    {
     "data": {
      "image/png": "[encoded data removed]",
      "text/plain": [
       "<Figure size 482.425x360 with 1 Axes>"
      ]
     },
     "metadata": {
      "needs_background": "light"
     },
     "output_type": "display_data"
    }
   ],
   "source": [
    "sns.displot(sample, x=\"compound\", hue=\"Streamer\", kind=\"kde\")"
   ]
  },
  {
   "cell_type": "code",
   "execution_count": null,
   "id": "6efb51f5",
   "metadata": {},
   "outputs": [],
   "source": [
    "#with open(\"Output.txt\", \"w\") as text_file:\n",
    "#    text_file.write(\"Purchase Amount: {0}\".format(TotalAmount))"
   ]
  },
  {
   "cell_type": "code",
   "execution_count": null,
   "id": "517c9805",
   "metadata": {},
   "outputs": [],
   "source": [
    "\n",
    "#import stylecloud\n",
    "#from wordcloud import STOPWORDS\n",
    "\n",
    "#my_custom_stopwords = character_names | STOPWORDS\n",
    "#stylecloud.gen_stylecloud(earth_text, palette=\"cmocean.sequential.Matter_16\", \n",
    "#                          background_color=\"white\", icon_name= 'fas fa-tint',\n",
    "#                          colors=['#3A7FC4', '#3A7FC4', '#3A7FC4'], stopwords=STOPWORDS,\n",
    "#                          custom_stopwords = my_custom_stopwords, collocations=False)"
   ]
  }
 ],
 "metadata": {
  "kernelspec": {
   "display_name": "Python 3",
   "language": "python",
   "name": "python3"
  },
  "language_info": {
   "codemirror_mode": {
    "name": "ipython",
    "version": 3
   },
   "file_extension": ".py",
   "mimetype": "text/x-python",
   "name": "python",
   "nbconvert_exporter": "python",
   "pygments_lexer": "ipython3",
   "version": "3.8.8"
  }
 },
 "nbformat": 4,
 "nbformat_minor": 5
}
